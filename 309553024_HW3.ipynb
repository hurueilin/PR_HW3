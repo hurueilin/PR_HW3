{
 "cells": [
  {
   "cell_type": "markdown",
   "metadata": {},
   "source": [
    "## HW3: Decision Tree, Random Forest, and Adaboost\n",
    "In hw3, you need to implement decision tree, random forest and adaboost by using only numpy, then train your implemented model by the provided dataset and test the performance with testing data\n",
    "\n",
    "Please note that only **NUMPY** can be used to implement your model, you will get no points by simply calling sklearn.tree.DecisionTreeClassifier"
   ]
  },
  {
   "cell_type": "code",
   "execution_count": 1,
   "metadata": {},
   "outputs": [],
   "source": [
    "# !pip install sklearn"
   ]
  },
  {
   "cell_type": "markdown",
   "metadata": {},
   "source": [
    "## Load data"
   ]
  },
  {
   "cell_type": "code",
   "execution_count": 2,
   "metadata": {},
   "outputs": [],
   "source": [
    "import numpy as np\n",
    "import pandas as pd\n",
    "from sklearn.datasets import load_breast_cancer\n",
    "from sklearn.metrics import accuracy_score\n",
    "from collections import Counter"
   ]
  },
  {
   "cell_type": "code",
   "execution_count": 3,
   "metadata": {},
   "outputs": [
    {
     "output_type": "stream",
     "name": "stdout",
     "text": [
      "['mean radius' 'mean texture' 'mean perimeter' 'mean area'\n 'mean smoothness' 'mean compactness' 'mean concavity'\n 'mean concave points' 'mean symmetry' 'mean fractal dimension'\n 'radius error' 'texture error' 'perimeter error' 'area error'\n 'smoothness error' 'compactness error' 'concavity error'\n 'concave points error' 'symmetry error' 'fractal dimension error'\n 'worst radius' 'worst texture' 'worst perimeter' 'worst area'\n 'worst smoothness' 'worst compactness' 'worst concavity'\n 'worst concave points' 'worst symmetry' 'worst fractal dimension']\n"
     ]
    }
   ],
   "source": [
    "data = load_breast_cancer()\n",
    "feature_names = data['feature_names']\n",
    "print(feature_names)"
   ]
  },
  {
   "cell_type": "code",
   "execution_count": 4,
   "metadata": {},
   "outputs": [],
   "source": [
    "x_train = pd.read_csv(\"x_train.csv\")\n",
    "y_train = pd.read_csv(\"y_train.csv\")\n",
    "x_test = pd.read_csv(\"x_test.csv\")\n",
    "y_test = pd.read_csv(\"y_test.csv\")"
   ]
  },
  {
   "cell_type": "markdown",
   "metadata": {},
   "source": [
    "## Question 1\n",
    "Gini Index or Entropy is often used for measuring the “best” splitting of the data. Please compute the Entropy and Gini Index of provided data. Please use the formula from the course sludes on E3"
   ]
  },
  {
   "cell_type": "code",
   "execution_count": 5,
   "metadata": {},
   "outputs": [],
   "source": [
    "def gini(sequence):\n",
    "    num_of_data = len(sequence)\n",
    "    counts = np.bincount(sequence)\n",
    "    probs = counts[np.nonzero(counts)] / num_of_data\n",
    "    return 1 - np.sum(np.square(probs))\n",
    "\n",
    "\n",
    "def entropy(sequence):\n",
    "    num_of_data = len(sequence)\n",
    "    counts = np.bincount(sequence)\n",
    "    probs = counts[np.nonzero(counts)] / num_of_data\n",
    "    num_of_classes = len(probs)\n",
    "    if(num_of_classes <= 1):\n",
    "        return 0\n",
    "    return - np.sum(probs * np.log2(probs))"
   ]
  },
  {
   "cell_type": "code",
   "execution_count": 6,
   "metadata": {},
   "outputs": [],
   "source": [
    "# 1 = class 1,\n",
    "# 2 = class 2\n",
    "data = np.array([1,2,1,1,1,1,2,2,1,1,2])"
   ]
  },
  {
   "cell_type": "code",
   "execution_count": 7,
   "metadata": {},
   "outputs": [
    {
     "output_type": "stream",
     "name": "stdout",
     "text": [
      "Gini of data is  0.4628099173553719\n"
     ]
    }
   ],
   "source": [
    "print(\"Gini of data is \", gini(data))"
   ]
  },
  {
   "cell_type": "code",
   "execution_count": 8,
   "metadata": {},
   "outputs": [
    {
     "output_type": "stream",
     "name": "stdout",
     "text": [
      "Entropy of data is  0.9456603046006401\n"
     ]
    }
   ],
   "source": [
    "print(\"Entropy of data is \", entropy(data))"
   ]
  },
  {
   "cell_type": "markdown",
   "metadata": {},
   "source": [
    "## Question 2\n",
    "Implement the Decision Tree algorithm (CART, Classification and Regression Trees) and trained the model by the given arguments, and print the accuracy score on the test data. You should implement two arguments for the Decision Tree algorithm\n",
    "1. **Criterion**: The function to measure the quality of a split. Your model should support “gini” for the Gini impurity and “entropy” for the information gain. \n",
    "2. **Max_depth**: The maximum depth of the tree. If Max_depth=None, then nodes are expanded until all leaves are pure. Max_depth=1 equals to split data once\n"
   ]
  },
  {
   "cell_type": "code",
   "execution_count": 9,
   "metadata": {},
   "outputs": [],
   "source": [
    "class Node:\n",
    "    # split_feature & split_value are used for splitting the DecisionTree\n",
    "    def __init__(self, predicted_class):\n",
    "        self.predicted_class = predicted_class\n",
    "        self.split_feature = 0\n",
    "        self.split_value = 0\n",
    "        self.left = None\n",
    "        self.right = None"
   ]
  },
  {
   "cell_type": "code",
   "execution_count": 10,
   "metadata": {},
   "outputs": [],
   "source": [
    "class DecisionTree():\n",
    "    def __init__(self, criterion='gini', max_depth=None):\n",
    "        self.max_depth = max_depth\n",
    "        self.criterion = criterion\n",
    "        self.bestFeatureList = []\n",
    "\n",
    "    def bestSplit(self, X, y):\n",
    "        \"\"\"\n",
    "        Given input data X and target labels y, find the best split for a decision tree.\n",
    "        \"\"\"\n",
    "        best_criterion = 1.0\n",
    "        best_feature = None\n",
    "        best_value = -1\n",
    "\n",
    "        if len(y) <= 1:\n",
    "            return best_feature, best_value\n",
    "\n",
    "\n",
    "        for feature in X.columns:\n",
    "            # print('Current calculating feature:', feature)\n",
    "\n",
    "            # a new DataFrame sorted by current feature\n",
    "            sorted_X = X.sort_values(by=[feature])\n",
    "\n",
    "            for k in range(X.shape[0]):\n",
    "                # Split the current feature DataFrame to left and right parts\n",
    "                # i.e.(1, n-1), (2, n-2), ..., (n-1, 1)\n",
    "                left_values = sorted_X[feature].iloc[:k]\n",
    "                right_values = sorted_X[feature].iloc[k:]\n",
    "\n",
    "                n_left = len(left_values)\n",
    "                n_right = len(right_values)\n",
    "                if(n_left == 0 or n_right == 0):\n",
    "                    continue\n",
    "\n",
    "                # Get the ground truth(y_train) using ID\n",
    "                left_gt, right_gt = [], []\n",
    "                left_gt = [y.loc[ID][0] for ID in left_values.index]\n",
    "                right_gt = [y.loc[ID][0] for ID in right_values.index]\n",
    "\n",
    "                # Calculate left & right criterion\n",
    "                if(self.criterion == 'entropy'):\n",
    "                    left_criterion = entropy(left_gt)\n",
    "                    right_criterion = entropy(right_gt)\n",
    "                else:  # criterion == 'gini'\n",
    "                    left_criterion = gini(left_gt)\n",
    "                    right_criterion = gini(right_gt)\n",
    "\n",
    "                # Calculate the weighted average of criterion\n",
    "                left_weight = n_left / (n_left + n_right)\n",
    "                right_weight = n_right / (n_left + n_right)\n",
    "                weighted_criterion = (left_weight * left_criterion) + (right_weight * right_criterion)\n",
    "\n",
    "                if(weighted_criterion < best_criterion):\n",
    "                    best_criterion = weighted_criterion\n",
    "                    best_feature = feature\n",
    "                    best_value = (sorted_X[best_feature].iloc[k-1] + sorted_X[best_feature].iloc[k]) / 2\n",
    "\n",
    "        self.bestFeatureList.append(best_feature)\n",
    "        return best_feature, best_value\n",
    "\n",
    "    def buildTree(self, X, y, depth=0):\n",
    "        # Predecting which class that current node belongs to\n",
    "        num_samples_per_class = [np.sum(y == i) for i in range(self.num_of_classes)]\n",
    "        predicted_class = np.argmax(num_samples_per_class)\n",
    "        node = Node(predicted_class=predicted_class)\n",
    "\n",
    "        if depth < self.max_depth:\n",
    "            # print('Current depth:', depth)\n",
    "            split_feature, split_value = self.bestSplit(X, y)\n",
    "            if split_feature is not None:\n",
    "                node.split_feature = split_feature\n",
    "                node.split_value = split_value\n",
    "\n",
    "                # For each data in X,\n",
    "                # filter out whether the data belongs to left sub-tree or right sub-tree\n",
    "                left_filter = X[split_feature] <= split_value\n",
    "                right_filter = X[split_feature] > split_value\n",
    "                X_left = X[left_filter]\n",
    "                X_right = X[right_filter]\n",
    "                y_left = y[y.index.isin(X_left.index)]\n",
    "                y_right = y[y.index.isin(X_right.index)]\n",
    "\n",
    "                node.left = self.buildTree(X_left, y_left, depth + 1)\n",
    "                node.right = self.buildTree(X_right, y_right, depth + 1)\n",
    "        return node\n",
    "\n",
    "    def fit(self, X, y):\n",
    "        self.num_of_classes = 2  # 2 classes(0 or 1)\n",
    "        self.num_of_features = X.shape[1]\n",
    "        self.tree = self.buildTree(X, y)\n",
    "\n",
    "    def predict(self, X):\n",
    "        output = []\n",
    "        for row in range(X.shape[0]):\n",
    "            x = X.iloc[row]\n",
    "            output.append(self.predict_each(x))\n",
    "        return output\n",
    "\n",
    "    def predict_each(self, x):\n",
    "        node = self.tree\n",
    "        while node.left:\n",
    "            if x[node.split_feature] <= node.split_value:\n",
    "                node = node.left\n",
    "            else:\n",
    "                node = node.right\n",
    "        return node.predicted_class\n"
   ]
  },
  {
   "cell_type": "markdown",
   "metadata": {},
   "source": [
    "### Question 2.1\n",
    "Using Criterion=‘gini’, showing the accuracy score of test data by Max_depth=3 and Max_depth=10, respectively.\n"
   ]
  },
  {
   "cell_type": "code",
   "execution_count": 11,
   "metadata": {},
   "outputs": [],
   "source": [
    "clf_depth3 = DecisionTree(criterion='gini', max_depth=3)\n",
    "clf_depth10 = DecisionTree(criterion='gini', max_depth=10)"
   ]
  },
  {
   "cell_type": "code",
   "execution_count": 12,
   "metadata": {
    "tags": []
   },
   "outputs": [
    {
     "output_type": "stream",
     "name": "stdout",
     "text": [
      "--- finished in 663.2188861370087 seconds ---\n"
     ]
    }
   ],
   "source": [
    "import time\n",
    "start_time = time.time()\n",
    "\n",
    "# Build the clf_depth3 model\n",
    "clf_depth3.fit(x_train, y_train)\n",
    "y_pred_depth3 = clf_depth3.predict(x_test)\n",
    "\n",
    "print(\"--- finished in %s seconds ---\" % (time.time() - start_time))"
   ]
  },
  {
   "cell_type": "code",
   "execution_count": 13,
   "metadata": {},
   "outputs": [
    {
     "output_type": "stream",
     "name": "stdout",
     "text": [
      "--- finished in 1556.316674232483 seconds ---\n"
     ]
    }
   ],
   "source": [
    "import time\n",
    "start_time = time.time()\n",
    "\n",
    "# Build the clf_depth10 model\n",
    "clf_depth10.fit(x_train, y_train)\n",
    "y_pred_depth10 = clf_depth10.predict(x_test)\n",
    "\n",
    "print(\"--- finished in %s seconds ---\" % (time.time() - start_time))"
   ]
  },
  {
   "cell_type": "code",
   "execution_count": 14,
   "metadata": {},
   "outputs": [
    {
     "output_type": "stream",
     "name": "stdout",
     "text": [
      "accuracy score of clf_depth3: 0.9230769230769231\naccuracy score of clf_depth10: 0.916083916083916\n"
     ]
    }
   ],
   "source": [
    "print('accuracy score of clf_depth3:', accuracy_score(y_test, y_pred_depth3))\n",
    "print('accuracy score of clf_depth10:', accuracy_score(y_test, y_pred_depth10))"
   ]
  },
  {
   "cell_type": "code",
   "execution_count": 17,
   "metadata": {},
   "outputs": [
    {
     "output_type": "stream",
     "name": "stdout",
     "text": [
      "accuracy score by sklearn: 0.9300699300699301\n"
     ]
    }
   ],
   "source": [
    "# For comparison of accuracy\n",
    "from sklearn import tree\n",
    "\n",
    "clf_sklearn = tree.DecisionTreeClassifier()\n",
    "clf_sklearn.fit(x_train, y_train)\n",
    "y_pred_sklearn = clf_sklearn.predict(x_test)\n",
    "print('accuracy score by sklearn:', accuracy_score(y_test, y_pred_sklearn))"
   ]
  },
  {
   "cell_type": "markdown",
   "metadata": {},
   "source": [
    "### Question 2.2\n",
    "Using Max_depth=3, showing the accuracy score of test data by Criterion=‘gini’ and Criterion=’entropy’, respectively.\n"
   ]
  },
  {
   "cell_type": "code",
   "execution_count": 19,
   "metadata": {},
   "outputs": [],
   "source": [
    "clf_gini = DecisionTree(criterion='gini', max_depth=3)\n",
    "clf_entropy = DecisionTree(criterion='entropy', max_depth=3)"
   ]
  },
  {
   "cell_type": "code",
   "execution_count": 20,
   "metadata": {},
   "outputs": [
    {
     "output_type": "stream",
     "name": "stdout",
     "text": [
      "Current depth: 0\n",
      "Current calculating feature: mean radius\n",
      "Current calculating feature: mean texture\n",
      "Current calculating feature: mean perimeter\n",
      "Current calculating feature: mean area\n",
      "Current calculating feature: mean smoothness\n",
      "Current calculating feature: mean compactness\n",
      "Current calculating feature: mean concavity\n",
      "Current calculating feature: mean concave points\n",
      "Current calculating feature: mean symmetry\n",
      "Current calculating feature: mean fractal dimension\n",
      "Current calculating feature: radius error\n",
      "Current calculating feature: texture error\n",
      "Current calculating feature: perimeter error\n",
      "Current calculating feature: area error\n",
      "Current calculating feature: smoothness error\n",
      "Current calculating feature: compactness error\n",
      "Current calculating feature: concavity error\n",
      "Current calculating feature: concave points error\n",
      "Current calculating feature: symmetry error\n",
      "Current calculating feature: fractal dimension error\n",
      "Current calculating feature: worst radius\n",
      "Current calculating feature: worst texture\n",
      "Current calculating feature: worst perimeter\n",
      "Current calculating feature: worst area\n",
      "Current calculating feature: worst smoothness\n",
      "Current calculating feature: worst compactness\n",
      "Current calculating feature: worst concavity\n",
      "Current calculating feature: worst concave points\n",
      "Current calculating feature: worst symmetry\n",
      "Current calculating feature: worst fractal dimension\n",
      "Current depth: 1\n",
      "Current calculating feature: mean radius\n",
      "Current calculating feature: mean texture\n",
      "Current calculating feature: mean perimeter\n",
      "Current calculating feature: mean area\n",
      "Current calculating feature: mean smoothness\n",
      "Current calculating feature: mean compactness\n",
      "Current calculating feature: mean concavity\n",
      "Current calculating feature: mean concave points\n",
      "Current calculating feature: mean symmetry\n",
      "Current calculating feature: mean fractal dimension\n",
      "Current calculating feature: radius error\n",
      "Current calculating feature: texture error\n",
      "Current calculating feature: perimeter error\n",
      "Current calculating feature: area error\n",
      "Current calculating feature: smoothness error\n",
      "Current calculating feature: compactness error\n",
      "Current calculating feature: concavity error\n",
      "Current calculating feature: concave points error\n",
      "Current calculating feature: symmetry error\n",
      "Current calculating feature: fractal dimension error\n",
      "Current calculating feature: worst radius\n",
      "Current calculating feature: worst texture\n",
      "Current calculating feature: worst perimeter\n",
      "Current calculating feature: worst area\n",
      "Current calculating feature: worst smoothness\n",
      "Current calculating feature: worst compactness\n",
      "Current calculating feature: worst concavity\n",
      "Current calculating feature: worst concave points\n",
      "Current calculating feature: worst symmetry\n",
      "Current calculating feature: worst fractal dimension\n",
      "Current depth: 2\n",
      "Current calculating feature: mean radius\n",
      "Current calculating feature: mean texture\n",
      "Current calculating feature: mean perimeter\n",
      "Current calculating feature: mean area\n",
      "Current calculating feature: mean smoothness\n",
      "Current calculating feature: mean compactness\n",
      "Current calculating feature: mean concavity\n",
      "Current calculating feature: mean concave points\n",
      "Current calculating feature: mean symmetry\n",
      "Current calculating feature: mean fractal dimension\n",
      "Current calculating feature: radius error\n",
      "Current calculating feature: texture error\n",
      "Current calculating feature: perimeter error\n",
      "Current calculating feature: area error\n",
      "Current calculating feature: smoothness error\n",
      "Current calculating feature: compactness error\n",
      "Current calculating feature: concavity error\n",
      "Current calculating feature: concave points error\n",
      "Current calculating feature: symmetry error\n",
      "Current calculating feature: fractal dimension error\n",
      "Current calculating feature: worst radius\n",
      "Current calculating feature: worst texture\n",
      "Current calculating feature: worst perimeter\n",
      "Current calculating feature: worst area\n",
      "Current calculating feature: worst smoothness\n",
      "Current calculating feature: worst compactness\n",
      "Current calculating feature: worst concavity\n",
      "Current calculating feature: worst concave points\n",
      "Current calculating feature: worst symmetry\n",
      "Current calculating feature: worst fractal dimension\n",
      "Current depth: 2\n",
      "Current calculating feature: mean radius\n",
      "Current calculating feature: mean texture\n",
      "Current calculating feature: mean perimeter\n",
      "Current calculating feature: mean area\n",
      "Current calculating feature: mean smoothness\n",
      "Current calculating feature: mean compactness\n",
      "Current calculating feature: mean concavity\n",
      "Current calculating feature: mean concave points\n",
      "Current calculating feature: mean symmetry\n",
      "Current calculating feature: mean fractal dimension\n",
      "Current calculating feature: radius error\n",
      "Current calculating feature: texture error\n",
      "Current calculating feature: perimeter error\n",
      "Current calculating feature: area error\n",
      "Current calculating feature: smoothness error\n",
      "Current calculating feature: compactness error\n",
      "Current calculating feature: concavity error\n",
      "Current calculating feature: concave points error\n",
      "Current calculating feature: symmetry error\n",
      "Current calculating feature: fractal dimension error\n",
      "Current calculating feature: worst radius\n",
      "Current calculating feature: worst texture\n",
      "Current calculating feature: worst perimeter\n",
      "Current calculating feature: worst area\n",
      "Current calculating feature: worst smoothness\n",
      "Current calculating feature: worst compactness\n",
      "Current calculating feature: worst concavity\n",
      "Current calculating feature: worst concave points\n",
      "Current calculating feature: worst symmetry\n",
      "Current calculating feature: worst fractal dimension\n",
      "Current depth: 1\n",
      "Current calculating feature: mean radius\n",
      "Current calculating feature: mean texture\n",
      "Current calculating feature: mean perimeter\n",
      "Current calculating feature: mean area\n",
      "Current calculating feature: mean smoothness\n",
      "Current calculating feature: mean compactness\n",
      "Current calculating feature: mean concavity\n",
      "Current calculating feature: mean concave points\n",
      "Current calculating feature: mean symmetry\n",
      "Current calculating feature: mean fractal dimension\n",
      "Current calculating feature: radius error\n",
      "Current calculating feature: texture error\n",
      "Current calculating feature: perimeter error\n",
      "Current calculating feature: area error\n",
      "Current calculating feature: smoothness error\n",
      "Current calculating feature: compactness error\n",
      "Current calculating feature: concavity error\n",
      "Current calculating feature: concave points error\n",
      "Current calculating feature: symmetry error\n",
      "Current calculating feature: fractal dimension error\n",
      "Current calculating feature: worst radius\n",
      "Current calculating feature: worst texture\n",
      "Current calculating feature: worst perimeter\n",
      "Current calculating feature: worst area\n",
      "Current calculating feature: worst smoothness\n",
      "Current calculating feature: worst compactness\n",
      "Current calculating feature: worst concavity\n",
      "Current calculating feature: worst concave points\n",
      "Current calculating feature: worst symmetry\n",
      "Current calculating feature: worst fractal dimension\n",
      "Current depth: 2\n",
      "Current calculating feature: mean radius\n",
      "Current calculating feature: mean texture\n",
      "Current calculating feature: mean perimeter\n",
      "Current calculating feature: mean area\n",
      "Current calculating feature: mean smoothness\n",
      "Current calculating feature: mean compactness\n",
      "Current calculating feature: mean concavity\n",
      "Current calculating feature: mean concave points\n",
      "Current calculating feature: mean symmetry\n",
      "Current calculating feature: mean fractal dimension\n",
      "Current calculating feature: radius error\n",
      "Current calculating feature: texture error\n",
      "Current calculating feature: perimeter error\n",
      "Current calculating feature: area error\n",
      "Current calculating feature: smoothness error\n",
      "Current calculating feature: compactness error\n",
      "Current calculating feature: concavity error\n",
      "Current calculating feature: concave points error\n",
      "Current calculating feature: symmetry error\n",
      "Current calculating feature: fractal dimension error\n",
      "Current calculating feature: worst radius\n",
      "Current calculating feature: worst texture\n",
      "Current calculating feature: worst perimeter\n",
      "Current calculating feature: worst area\n",
      "Current calculating feature: worst smoothness\n",
      "Current calculating feature: worst compactness\n",
      "Current calculating feature: worst concavity\n",
      "Current calculating feature: worst concave points\n",
      "Current calculating feature: worst symmetry\n",
      "Current calculating feature: worst fractal dimension\n",
      "Current depth: 2\n",
      "Current calculating feature: mean radius\n",
      "Current calculating feature: mean texture\n",
      "Current calculating feature: mean perimeter\n",
      "Current calculating feature: mean area\n",
      "Current calculating feature: mean smoothness\n",
      "Current calculating feature: mean compactness\n",
      "Current calculating feature: mean concavity\n",
      "Current calculating feature: mean concave points\n",
      "Current calculating feature: mean symmetry\n",
      "Current calculating feature: mean fractal dimension\n",
      "Current calculating feature: radius error\n",
      "Current calculating feature: texture error\n",
      "Current calculating feature: perimeter error\n",
      "Current calculating feature: area error\n",
      "Current calculating feature: smoothness error\n",
      "Current calculating feature: compactness error\n",
      "Current calculating feature: concavity error\n",
      "Current calculating feature: concave points error\n",
      "Current calculating feature: symmetry error\n",
      "Current calculating feature: fractal dimension error\n",
      "Current calculating feature: worst radius\n",
      "Current calculating feature: worst texture\n",
      "Current calculating feature: worst perimeter\n",
      "Current calculating feature: worst area\n",
      "Current calculating feature: worst smoothness\n",
      "Current calculating feature: worst compactness\n",
      "Current calculating feature: worst concavity\n",
      "Current calculating feature: worst concave points\n",
      "Current calculating feature: worst symmetry\n",
      "Current calculating feature: worst fractal dimension\n"
     ]
    }
   ],
   "source": [
    "clf_gini.fit(x_train, y_train)\n",
    "y_pred_gini = clf_gini.predict(x_test)"
   ]
  },
  {
   "cell_type": "code",
   "execution_count": 16,
   "metadata": {},
   "outputs": [
    {
     "output_type": "stream",
     "name": "stdout",
     "text": [
      "Current depth: 0\n",
      "Current calculating feature: mean radius\n",
      "Current calculating feature: mean texture\n",
      "Current calculating feature: mean perimeter\n",
      "Current calculating feature: mean area\n",
      "Current calculating feature: mean smoothness\n",
      "Current calculating feature: mean compactness\n",
      "Current calculating feature: mean concavity\n",
      "Current calculating feature: mean concave points\n",
      "Current calculating feature: mean symmetry\n",
      "Current calculating feature: mean fractal dimension\n",
      "Current calculating feature: radius error\n",
      "Current calculating feature: texture error\n",
      "Current calculating feature: perimeter error\n",
      "Current calculating feature: area error\n",
      "Current calculating feature: smoothness error\n",
      "Current calculating feature: compactness error\n",
      "Current calculating feature: concavity error\n",
      "Current calculating feature: concave points error\n",
      "Current calculating feature: symmetry error\n",
      "Current calculating feature: fractal dimension error\n",
      "Current calculating feature: worst radius\n",
      "Current calculating feature: worst texture\n",
      "Current calculating feature: worst perimeter\n",
      "Current calculating feature: worst area\n",
      "Current calculating feature: worst smoothness\n",
      "Current calculating feature: worst compactness\n",
      "Current calculating feature: worst concavity\n",
      "Current calculating feature: worst concave points\n",
      "Current calculating feature: worst symmetry\n",
      "Current calculating feature: worst fractal dimension\n",
      "Current depth: 1\n",
      "Current calculating feature: mean radius\n",
      "Current calculating feature: mean texture\n",
      "Current calculating feature: mean perimeter\n",
      "Current calculating feature: mean area\n",
      "Current calculating feature: mean smoothness\n",
      "Current calculating feature: mean compactness\n",
      "Current calculating feature: mean concavity\n",
      "Current calculating feature: mean concave points\n",
      "Current calculating feature: mean symmetry\n",
      "Current calculating feature: mean fractal dimension\n",
      "Current calculating feature: radius error\n",
      "Current calculating feature: texture error\n",
      "Current calculating feature: perimeter error\n",
      "Current calculating feature: area error\n",
      "Current calculating feature: smoothness error\n",
      "Current calculating feature: compactness error\n",
      "Current calculating feature: concavity error\n",
      "Current calculating feature: concave points error\n",
      "Current calculating feature: symmetry error\n",
      "Current calculating feature: fractal dimension error\n",
      "Current calculating feature: worst radius\n",
      "Current calculating feature: worst texture\n",
      "Current calculating feature: worst perimeter\n",
      "Current calculating feature: worst area\n",
      "Current calculating feature: worst smoothness\n",
      "Current calculating feature: worst compactness\n",
      "Current calculating feature: worst concavity\n",
      "Current calculating feature: worst concave points\n",
      "Current calculating feature: worst symmetry\n",
      "Current calculating feature: worst fractal dimension\n",
      "Current depth: 2\n",
      "Current calculating feature: mean radius\n",
      "Current calculating feature: mean texture\n",
      "Current calculating feature: mean perimeter\n",
      "Current calculating feature: mean area\n",
      "Current calculating feature: mean smoothness\n",
      "Current calculating feature: mean compactness\n",
      "Current calculating feature: mean concavity\n",
      "Current calculating feature: mean concave points\n",
      "Current calculating feature: mean symmetry\n",
      "Current calculating feature: mean fractal dimension\n",
      "Current calculating feature: radius error\n",
      "Current calculating feature: texture error\n",
      "Current calculating feature: perimeter error\n",
      "Current calculating feature: area error\n",
      "Current calculating feature: smoothness error\n",
      "Current calculating feature: compactness error\n",
      "Current calculating feature: concavity error\n",
      "Current calculating feature: concave points error\n",
      "Current calculating feature: symmetry error\n",
      "Current calculating feature: fractal dimension error\n",
      "Current calculating feature: worst radius\n",
      "Current calculating feature: worst texture\n",
      "Current calculating feature: worst perimeter\n",
      "Current calculating feature: worst area\n",
      "Current calculating feature: worst smoothness\n",
      "Current calculating feature: worst compactness\n",
      "Current calculating feature: worst concavity\n",
      "Current calculating feature: worst concave points\n",
      "Current calculating feature: worst symmetry\n",
      "Current calculating feature: worst fractal dimension\n",
      "Current depth: 2\n",
      "Current calculating feature: mean radius\n",
      "Current calculating feature: mean texture\n",
      "Current calculating feature: mean perimeter\n",
      "Current calculating feature: mean area\n",
      "Current calculating feature: mean smoothness\n",
      "Current calculating feature: mean compactness\n",
      "Current calculating feature: mean concavity\n",
      "Current calculating feature: mean concave points\n",
      "Current calculating feature: mean symmetry\n",
      "Current calculating feature: mean fractal dimension\n",
      "Current calculating feature: radius error\n",
      "Current calculating feature: texture error\n",
      "Current calculating feature: perimeter error\n",
      "Current calculating feature: area error\n",
      "Current calculating feature: smoothness error\n",
      "Current calculating feature: compactness error\n",
      "Current calculating feature: concavity error\n",
      "Current calculating feature: concave points error\n",
      "Current calculating feature: symmetry error\n",
      "Current calculating feature: fractal dimension error\n",
      "Current calculating feature: worst radius\n",
      "Current calculating feature: worst texture\n",
      "Current calculating feature: worst perimeter\n",
      "Current calculating feature: worst area\n",
      "Current calculating feature: worst smoothness\n",
      "Current calculating feature: worst compactness\n",
      "Current calculating feature: worst concavity\n",
      "Current calculating feature: worst concave points\n",
      "Current calculating feature: worst symmetry\n",
      "Current calculating feature: worst fractal dimension\n",
      "Current depth: 1\n",
      "Current calculating feature: mean radius\n",
      "Current calculating feature: mean texture\n",
      "Current calculating feature: mean perimeter\n",
      "Current calculating feature: mean area\n",
      "Current calculating feature: mean smoothness\n",
      "Current calculating feature: mean compactness\n",
      "Current calculating feature: mean concavity\n",
      "Current calculating feature: mean concave points\n",
      "Current calculating feature: mean symmetry\n",
      "Current calculating feature: mean fractal dimension\n",
      "Current calculating feature: radius error\n",
      "Current calculating feature: texture error\n",
      "Current calculating feature: perimeter error\n",
      "Current calculating feature: area error\n",
      "Current calculating feature: smoothness error\n",
      "Current calculating feature: compactness error\n",
      "Current calculating feature: concavity error\n",
      "Current calculating feature: concave points error\n",
      "Current calculating feature: symmetry error\n",
      "Current calculating feature: fractal dimension error\n",
      "Current calculating feature: worst radius\n",
      "Current calculating feature: worst texture\n",
      "Current calculating feature: worst perimeter\n",
      "Current calculating feature: worst area\n",
      "Current calculating feature: worst smoothness\n",
      "Current calculating feature: worst compactness\n",
      "Current calculating feature: worst concavity\n",
      "Current calculating feature: worst concave points\n",
      "Current calculating feature: worst symmetry\n",
      "Current calculating feature: worst fractal dimension\n",
      "Current depth: 2\n",
      "Current calculating feature: mean radius\n",
      "Current calculating feature: mean texture\n",
      "Current calculating feature: mean perimeter\n",
      "Current calculating feature: mean area\n",
      "Current calculating feature: mean smoothness\n",
      "Current calculating feature: mean compactness\n",
      "Current calculating feature: mean concavity\n",
      "Current calculating feature: mean concave points\n",
      "Current calculating feature: mean symmetry\n",
      "Current calculating feature: mean fractal dimension\n",
      "Current calculating feature: radius error\n",
      "Current calculating feature: texture error\n",
      "Current calculating feature: perimeter error\n",
      "Current calculating feature: area error\n",
      "Current calculating feature: smoothness error\n",
      "Current calculating feature: compactness error\n",
      "Current calculating feature: concavity error\n",
      "Current calculating feature: concave points error\n",
      "Current calculating feature: symmetry error\n",
      "Current calculating feature: fractal dimension error\n",
      "Current calculating feature: worst radius\n",
      "Current calculating feature: worst texture\n",
      "Current calculating feature: worst perimeter\n",
      "Current calculating feature: worst area\n",
      "Current calculating feature: worst smoothness\n",
      "Current calculating feature: worst compactness\n",
      "Current calculating feature: worst concavity\n",
      "Current calculating feature: worst concave points\n",
      "Current calculating feature: worst symmetry\n",
      "Current calculating feature: worst fractal dimension\n",
      "Current depth: 2\n",
      "Current calculating feature: mean radius\n",
      "Current calculating feature: mean texture\n",
      "Current calculating feature: mean perimeter\n",
      "Current calculating feature: mean area\n",
      "Current calculating feature: mean smoothness\n",
      "Current calculating feature: mean compactness\n",
      "Current calculating feature: mean concavity\n",
      "Current calculating feature: mean concave points\n",
      "Current calculating feature: mean symmetry\n",
      "Current calculating feature: mean fractal dimension\n",
      "Current calculating feature: radius error\n",
      "Current calculating feature: texture error\n",
      "Current calculating feature: perimeter error\n",
      "Current calculating feature: area error\n",
      "Current calculating feature: smoothness error\n",
      "Current calculating feature: compactness error\n",
      "Current calculating feature: concavity error\n",
      "Current calculating feature: concave points error\n",
      "Current calculating feature: symmetry error\n",
      "Current calculating feature: fractal dimension error\n",
      "Current calculating feature: worst radius\n",
      "Current calculating feature: worst texture\n",
      "Current calculating feature: worst perimeter\n",
      "Current calculating feature: worst area\n",
      "Current calculating feature: worst smoothness\n",
      "Current calculating feature: worst compactness\n",
      "Current calculating feature: worst concavity\n",
      "Current calculating feature: worst concave points\n",
      "Current calculating feature: worst symmetry\n",
      "Current calculating feature: worst fractal dimension\n"
     ]
    }
   ],
   "source": [
    "clf_entropy.fit(x_train, y_train)\n",
    "y_pred_entropy = clf_entropy.predict(x_test)"
   ]
  },
  {
   "cell_type": "code",
   "execution_count": 21,
   "metadata": {},
   "outputs": [
    {
     "output_type": "stream",
     "name": "stdout",
     "text": [
      "accuracy score of clf_gini: 0.9230769230769231\naccuracy score of clf_entropy: 0.9230769230769231\n"
     ]
    }
   ],
   "source": [
    "print('accuracy score of clf_gini:', accuracy_score(y_test, y_pred_gini))\n",
    "print('accuracy score of clf_entropy:', accuracy_score(y_test, y_pred_entropy))"
   ]
  },
  {
   "cell_type": "markdown",
   "metadata": {},
   "source": [
    "- Note: All of your accuracy scores should over 0.9\n",
    "- Note: You should get the same results when re-building the model with the same arguments,  no need to prune the trees\n",
    "- Hint: You can use the recursive method to build the nodes\n"
   ]
  },
  {
   "cell_type": "markdown",
   "metadata": {},
   "source": [
    "## Question 3\n",
    "Plot the [feature importance](https://sefiks.com/2020/04/06/feature-importance-in-decision-trees/) of your Decision Tree model. You can get the feature importance by counting the feature used for splitting data.\n",
    "\n",
    "- You can simply plot the feature counts for building tree without normalize the importance\n",
    "\n",
    "![image](https://i2.wp.com/sefiks.com/wp-content/uploads/2020/04/c45-fi-results.jpg?w=481&ssl=1)"
   ]
  },
  {
   "cell_type": "code",
   "execution_count": 18,
   "metadata": {},
   "outputs": [
    {
     "output_type": "stream",
     "name": "stdout",
     "text": [
      "[('mean radius', 43), ('worst texture', 3), ('mean texture', 3), ('worst radius', 1), ('worst concave points', 1), ('area error', 1), ('worst area', 1), ('mean perimeter', 1), ('mean concavity', 1), ('mean concave points', 1), ('worst concavity', 1)]\n"
     ]
    }
   ],
   "source": [
    "# Calculate the occurrence of best_feature\n",
    "counts = Counter(clf_depth10.bestFeatureList)\n",
    "counts = counts.most_common()\n",
    "print(counts)"
   ]
  },
  {
   "cell_type": "code",
   "execution_count": 20,
   "metadata": {},
   "outputs": [
    {
     "output_type": "execute_result",
     "data": {
      "text/plain": [
       "Text(0.5, 1.0, 'Feature counts of clf_depth10')"
      ]
     },
     "metadata": {},
     "execution_count": 20
    },
    {
     "output_type": "display_data",
     "data": {
      "text/plain": "<Figure size 432x288 with 1 Axes>",
      "image/svg+xml": "<?xml version=\"1.0\" encoding=\"utf-8\" standalone=\"no\"?>\r\n<!DOCTYPE svg PUBLIC \"-//W3C//DTD SVG 1.1//EN\"\r\n  \"http://www.w3.org/Graphics/SVG/1.1/DTD/svg11.dtd\">\r\n<!-- Created with matplotlib (https://matplotlib.org/) -->\r\n<svg height=\"277.314375pt\" version=\"1.1\" viewBox=\"0 0 476.959375 277.314375\" width=\"476.959375pt\" xmlns=\"http://www.w3.org/2000/svg\" xmlns:xlink=\"http://www.w3.org/1999/xlink\">\r\n <metadata>\r\n  <rdf:RDF xmlns:cc=\"http://creativecommons.org/ns#\" xmlns:dc=\"http://purl.org/dc/elements/1.1/\" xmlns:rdf=\"http://www.w3.org/1999/02/22-rdf-syntax-ns#\">\r\n   <cc:Work>\r\n    <dc:type rdf:resource=\"http://purl.org/dc/dcmitype/StillImage\"/>\r\n    <dc:date>2021-05-21T10:44:38.006218</dc:date>\r\n    <dc:format>image/svg+xml</dc:format>\r\n    <dc:creator>\r\n     <cc:Agent>\r\n      <dc:title>Matplotlib v3.3.3, https://matplotlib.org/</dc:title>\r\n     </cc:Agent>\r\n    </dc:creator>\r\n   </cc:Work>\r\n  </rdf:RDF>\r\n </metadata>\r\n <defs>\r\n  <style type=\"text/css\">*{stroke-linecap:butt;stroke-linejoin:round;}</style>\r\n </defs>\r\n <g id=\"figure_1\">\r\n  <g id=\"patch_1\">\r\n   <path d=\"M 0 277.314375 \r\nL 476.959375 277.314375 \r\nL 476.959375 0 \r\nL 0 0 \r\nz\r\n\" style=\"fill:none;\"/>\r\n  </g>\r\n  <g id=\"axes_1\">\r\n   <g id=\"patch_2\">\r\n    <path d=\"M 134.959375 239.758125 \r\nL 469.759375 239.758125 \r\nL 469.759375 22.318125 \r\nL 134.959375 22.318125 \r\nz\r\n\" style=\"fill:#ffffff;\"/>\r\n   </g>\r\n   <g id=\"patch_3\">\r\n    <path clip-path=\"url(#p788aac3e11)\" d=\"M 134.959375 24.294852 \r\nL 453.816518 24.294852 \r\nL 453.816518 40.10867 \r\nL 134.959375 40.10867 \r\nz\r\n\" style=\"fill:#ea96a3;\"/>\r\n   </g>\r\n   <g id=\"patch_4\">\r\n    <path clip-path=\"url(#p788aac3e11)\" d=\"M 134.959375 44.062125 \r\nL 157.205222 44.062125 \r\nL 157.205222 59.875943 \r\nL 134.959375 59.875943 \r\nz\r\n\" style=\"fill:#dc924e;\"/>\r\n   </g>\r\n   <g id=\"patch_5\">\r\n    <path clip-path=\"url(#p788aac3e11)\" d=\"M 134.959375 63.829398 \r\nL 157.205222 63.829398 \r\nL 157.205222 79.643216 \r\nL 134.959375 79.643216 \r\nz\r\n\" style=\"fill:#b39d48;\"/>\r\n   </g>\r\n   <g id=\"patch_6\">\r\n    <path clip-path=\"url(#p788aac3e11)\" d=\"M 134.959375 83.59667 \r\nL 142.374657 83.59667 \r\nL 142.374657 99.410489 \r\nL 134.959375 99.410489 \r\nz\r\n\" style=\"fill:#8ea546;\"/>\r\n   </g>\r\n   <g id=\"patch_7\">\r\n    <path clip-path=\"url(#p788aac3e11)\" d=\"M 134.959375 103.363943 \r\nL 142.374657 103.363943 \r\nL 142.374657 119.177761 \r\nL 134.959375 119.177761 \r\nz\r\n\" style=\"fill:#48b067;\"/>\r\n   </g>\r\n   <g id=\"patch_8\">\r\n    <path clip-path=\"url(#p788aac3e11)\" d=\"M 134.959375 123.131216 \r\nL 142.374657 123.131216 \r\nL 142.374657 138.945034 \r\nL 134.959375 138.945034 \r\nz\r\n\" style=\"fill:#4aac98;\"/>\r\n   </g>\r\n   <g id=\"patch_9\">\r\n    <path clip-path=\"url(#p788aac3e11)\" d=\"M 134.959375 142.898489 \r\nL 142.374657 142.898489 \r\nL 142.374657 158.712307 \r\nL 134.959375 158.712307 \r\nz\r\n\" style=\"fill:#4dabb0;\"/>\r\n   </g>\r\n   <g id=\"patch_10\">\r\n    <path clip-path=\"url(#p788aac3e11)\" d=\"M 134.959375 162.665761 \r\nL 142.374657 162.665761 \r\nL 142.374657 178.47958 \r\nL 134.959375 178.47958 \r\nz\r\n\" style=\"fill:#54acd3;\"/>\r\n   </g>\r\n   <g id=\"patch_11\">\r\n    <path clip-path=\"url(#p788aac3e11)\" d=\"M 134.959375 182.433034 \r\nL 142.374657 182.433034 \r\nL 142.374657 198.246852 \r\nL 134.959375 198.246852 \r\nz\r\n\" style=\"fill:#a9aceb;\"/>\r\n   </g>\r\n   <g id=\"patch_12\">\r\n    <path clip-path=\"url(#p788aac3e11)\" d=\"M 134.959375 202.200307 \r\nL 142.374657 202.200307 \r\nL 142.374657 218.014125 \r\nL 134.959375 218.014125 \r\nz\r\n\" style=\"fill:#d795e8;\"/>\r\n   </g>\r\n   <g id=\"patch_13\">\r\n    <path clip-path=\"url(#p788aac3e11)\" d=\"M 134.959375 221.96758 \r\nL 142.374657 221.96758 \r\nL 142.374657 237.781398 \r\nL 134.959375 237.781398 \r\nz\r\n\" style=\"fill:#e88fc9;\"/>\r\n   </g>\r\n   <g id=\"matplotlib.axis_1\">\r\n    <g id=\"xtick_1\">\r\n     <g id=\"line2d_1\">\r\n      <defs>\r\n       <path d=\"M 0 0 \r\nL 0 3.5 \r\n\" id=\"mb82918f647\" style=\"stroke:#000000;stroke-width:0.8;\"/>\r\n      </defs>\r\n      <g>\r\n       <use style=\"stroke:#000000;stroke-width:0.8;\" x=\"134.959375\" xlink:href=\"#mb82918f647\" y=\"239.758125\"/>\r\n      </g>\r\n     </g>\r\n     <g id=\"text_1\">\r\n      <!-- 0 -->\r\n      <g transform=\"translate(131.778125 254.356562)scale(0.1 -0.1)\">\r\n       <defs>\r\n        <path d=\"M 31.78125 66.40625 \r\nQ 24.171875 66.40625 20.328125 58.90625 \r\nQ 16.5 51.421875 16.5 36.375 \r\nQ 16.5 21.390625 20.328125 13.890625 \r\nQ 24.171875 6.390625 31.78125 6.390625 \r\nQ 39.453125 6.390625 43.28125 13.890625 \r\nQ 47.125 21.390625 47.125 36.375 \r\nQ 47.125 51.421875 43.28125 58.90625 \r\nQ 39.453125 66.40625 31.78125 66.40625 \r\nz\r\nM 31.78125 74.21875 \r\nQ 44.046875 74.21875 50.515625 64.515625 \r\nQ 56.984375 54.828125 56.984375 36.375 \r\nQ 56.984375 17.96875 50.515625 8.265625 \r\nQ 44.046875 -1.421875 31.78125 -1.421875 \r\nQ 19.53125 -1.421875 13.0625 8.265625 \r\nQ 6.59375 17.96875 6.59375 36.375 \r\nQ 6.59375 54.828125 13.0625 64.515625 \r\nQ 19.53125 74.21875 31.78125 74.21875 \r\nz\r\n\" id=\"DejaVuSans-48\"/>\r\n       </defs>\r\n       <use xlink:href=\"#DejaVuSans-48\"/>\r\n      </g>\r\n     </g>\r\n    </g>\r\n    <g id=\"xtick_2\">\r\n     <g id=\"line2d_2\">\r\n      <g>\r\n       <use style=\"stroke:#000000;stroke-width:0.8;\" x=\"209.112199\" xlink:href=\"#mb82918f647\" y=\"239.758125\"/>\r\n      </g>\r\n     </g>\r\n     <g id=\"text_2\">\r\n      <!-- 10 -->\r\n      <g transform=\"translate(202.749699 254.356562)scale(0.1 -0.1)\">\r\n       <defs>\r\n        <path d=\"M 12.40625 8.296875 \r\nL 28.515625 8.296875 \r\nL 28.515625 63.921875 \r\nL 10.984375 60.40625 \r\nL 10.984375 69.390625 \r\nL 28.421875 72.90625 \r\nL 38.28125 72.90625 \r\nL 38.28125 8.296875 \r\nL 54.390625 8.296875 \r\nL 54.390625 0 \r\nL 12.40625 0 \r\nz\r\n\" id=\"DejaVuSans-49\"/>\r\n       </defs>\r\n       <use xlink:href=\"#DejaVuSans-49\"/>\r\n       <use x=\"63.623047\" xlink:href=\"#DejaVuSans-48\"/>\r\n      </g>\r\n     </g>\r\n    </g>\r\n    <g id=\"xtick_3\">\r\n     <g id=\"line2d_3\">\r\n      <g>\r\n       <use style=\"stroke:#000000;stroke-width:0.8;\" x=\"283.265023\" xlink:href=\"#mb82918f647\" y=\"239.758125\"/>\r\n      </g>\r\n     </g>\r\n     <g id=\"text_3\">\r\n      <!-- 20 -->\r\n      <g transform=\"translate(276.902523 254.356562)scale(0.1 -0.1)\">\r\n       <defs>\r\n        <path d=\"M 19.1875 8.296875 \r\nL 53.609375 8.296875 \r\nL 53.609375 0 \r\nL 7.328125 0 \r\nL 7.328125 8.296875 \r\nQ 12.9375 14.109375 22.625 23.890625 \r\nQ 32.328125 33.6875 34.8125 36.53125 \r\nQ 39.546875 41.84375 41.421875 45.53125 \r\nQ 43.3125 49.21875 43.3125 52.78125 \r\nQ 43.3125 58.59375 39.234375 62.25 \r\nQ 35.15625 65.921875 28.609375 65.921875 \r\nQ 23.96875 65.921875 18.8125 64.3125 \r\nQ 13.671875 62.703125 7.8125 59.421875 \r\nL 7.8125 69.390625 \r\nQ 13.765625 71.78125 18.9375 73 \r\nQ 24.125 74.21875 28.421875 74.21875 \r\nQ 39.75 74.21875 46.484375 68.546875 \r\nQ 53.21875 62.890625 53.21875 53.421875 \r\nQ 53.21875 48.921875 51.53125 44.890625 \r\nQ 49.859375 40.875 45.40625 35.40625 \r\nQ 44.1875 33.984375 37.640625 27.21875 \r\nQ 31.109375 20.453125 19.1875 8.296875 \r\nz\r\n\" id=\"DejaVuSans-50\"/>\r\n       </defs>\r\n       <use xlink:href=\"#DejaVuSans-50\"/>\r\n       <use x=\"63.623047\" xlink:href=\"#DejaVuSans-48\"/>\r\n      </g>\r\n     </g>\r\n    </g>\r\n    <g id=\"xtick_4\">\r\n     <g id=\"line2d_4\">\r\n      <g>\r\n       <use style=\"stroke:#000000;stroke-width:0.8;\" x=\"357.417847\" xlink:href=\"#mb82918f647\" y=\"239.758125\"/>\r\n      </g>\r\n     </g>\r\n     <g id=\"text_4\">\r\n      <!-- 30 -->\r\n      <g transform=\"translate(351.055347 254.356562)scale(0.1 -0.1)\">\r\n       <defs>\r\n        <path d=\"M 40.578125 39.3125 \r\nQ 47.65625 37.796875 51.625 33 \r\nQ 55.609375 28.21875 55.609375 21.1875 \r\nQ 55.609375 10.40625 48.1875 4.484375 \r\nQ 40.765625 -1.421875 27.09375 -1.421875 \r\nQ 22.515625 -1.421875 17.65625 -0.515625 \r\nQ 12.796875 0.390625 7.625 2.203125 \r\nL 7.625 11.71875 \r\nQ 11.71875 9.328125 16.59375 8.109375 \r\nQ 21.484375 6.890625 26.8125 6.890625 \r\nQ 36.078125 6.890625 40.9375 10.546875 \r\nQ 45.796875 14.203125 45.796875 21.1875 \r\nQ 45.796875 27.640625 41.28125 31.265625 \r\nQ 36.765625 34.90625 28.71875 34.90625 \r\nL 20.21875 34.90625 \r\nL 20.21875 43.015625 \r\nL 29.109375 43.015625 \r\nQ 36.375 43.015625 40.234375 45.921875 \r\nQ 44.09375 48.828125 44.09375 54.296875 \r\nQ 44.09375 59.90625 40.109375 62.90625 \r\nQ 36.140625 65.921875 28.71875 65.921875 \r\nQ 24.65625 65.921875 20.015625 65.03125 \r\nQ 15.375 64.15625 9.8125 62.3125 \r\nL 9.8125 71.09375 \r\nQ 15.4375 72.65625 20.34375 73.4375 \r\nQ 25.25 74.21875 29.59375 74.21875 \r\nQ 40.828125 74.21875 47.359375 69.109375 \r\nQ 53.90625 64.015625 53.90625 55.328125 \r\nQ 53.90625 49.265625 50.4375 45.09375 \r\nQ 46.96875 40.921875 40.578125 39.3125 \r\nz\r\n\" id=\"DejaVuSans-51\"/>\r\n       </defs>\r\n       <use xlink:href=\"#DejaVuSans-51\"/>\r\n       <use x=\"63.623047\" xlink:href=\"#DejaVuSans-48\"/>\r\n      </g>\r\n     </g>\r\n    </g>\r\n    <g id=\"xtick_5\">\r\n     <g id=\"line2d_5\">\r\n      <g>\r\n       <use style=\"stroke:#000000;stroke-width:0.8;\" x=\"431.570671\" xlink:href=\"#mb82918f647\" y=\"239.758125\"/>\r\n      </g>\r\n     </g>\r\n     <g id=\"text_5\">\r\n      <!-- 40 -->\r\n      <g transform=\"translate(425.208171 254.356562)scale(0.1 -0.1)\">\r\n       <defs>\r\n        <path d=\"M 37.796875 64.3125 \r\nL 12.890625 25.390625 \r\nL 37.796875 25.390625 \r\nz\r\nM 35.203125 72.90625 \r\nL 47.609375 72.90625 \r\nL 47.609375 25.390625 \r\nL 58.015625 25.390625 \r\nL 58.015625 17.1875 \r\nL 47.609375 17.1875 \r\nL 47.609375 0 \r\nL 37.796875 0 \r\nL 37.796875 17.1875 \r\nL 4.890625 17.1875 \r\nL 4.890625 26.703125 \r\nz\r\n\" id=\"DejaVuSans-52\"/>\r\n       </defs>\r\n       <use xlink:href=\"#DejaVuSans-52\"/>\r\n       <use x=\"63.623047\" xlink:href=\"#DejaVuSans-48\"/>\r\n      </g>\r\n     </g>\r\n    </g>\r\n    <g id=\"text_6\">\r\n     <!-- Count -->\r\n     <g transform=\"translate(287.510938 268.034687)scale(0.1 -0.1)\">\r\n      <defs>\r\n       <path d=\"M 64.40625 67.28125 \r\nL 64.40625 56.890625 \r\nQ 59.421875 61.53125 53.78125 63.8125 \r\nQ 48.140625 66.109375 41.796875 66.109375 \r\nQ 29.296875 66.109375 22.65625 58.46875 \r\nQ 16.015625 50.828125 16.015625 36.375 \r\nQ 16.015625 21.96875 22.65625 14.328125 \r\nQ 29.296875 6.6875 41.796875 6.6875 \r\nQ 48.140625 6.6875 53.78125 8.984375 \r\nQ 59.421875 11.28125 64.40625 15.921875 \r\nL 64.40625 5.609375 \r\nQ 59.234375 2.09375 53.4375 0.328125 \r\nQ 47.65625 -1.421875 41.21875 -1.421875 \r\nQ 24.65625 -1.421875 15.125 8.703125 \r\nQ 5.609375 18.84375 5.609375 36.375 \r\nQ 5.609375 53.953125 15.125 64.078125 \r\nQ 24.65625 74.21875 41.21875 74.21875 \r\nQ 47.75 74.21875 53.53125 72.484375 \r\nQ 59.328125 70.75 64.40625 67.28125 \r\nz\r\n\" id=\"DejaVuSans-67\"/>\r\n       <path d=\"M 30.609375 48.390625 \r\nQ 23.390625 48.390625 19.1875 42.75 \r\nQ 14.984375 37.109375 14.984375 27.296875 \r\nQ 14.984375 17.484375 19.15625 11.84375 \r\nQ 23.34375 6.203125 30.609375 6.203125 \r\nQ 37.796875 6.203125 41.984375 11.859375 \r\nQ 46.1875 17.53125 46.1875 27.296875 \r\nQ 46.1875 37.015625 41.984375 42.703125 \r\nQ 37.796875 48.390625 30.609375 48.390625 \r\nz\r\nM 30.609375 56 \r\nQ 42.328125 56 49.015625 48.375 \r\nQ 55.71875 40.765625 55.71875 27.296875 \r\nQ 55.71875 13.875 49.015625 6.21875 \r\nQ 42.328125 -1.421875 30.609375 -1.421875 \r\nQ 18.84375 -1.421875 12.171875 6.21875 \r\nQ 5.515625 13.875 5.515625 27.296875 \r\nQ 5.515625 40.765625 12.171875 48.375 \r\nQ 18.84375 56 30.609375 56 \r\nz\r\n\" id=\"DejaVuSans-111\"/>\r\n       <path d=\"M 8.5 21.578125 \r\nL 8.5 54.6875 \r\nL 17.484375 54.6875 \r\nL 17.484375 21.921875 \r\nQ 17.484375 14.15625 20.5 10.265625 \r\nQ 23.53125 6.390625 29.59375 6.390625 \r\nQ 36.859375 6.390625 41.078125 11.03125 \r\nQ 45.3125 15.671875 45.3125 23.6875 \r\nL 45.3125 54.6875 \r\nL 54.296875 54.6875 \r\nL 54.296875 0 \r\nL 45.3125 0 \r\nL 45.3125 8.40625 \r\nQ 42.046875 3.421875 37.71875 1 \r\nQ 33.40625 -1.421875 27.6875 -1.421875 \r\nQ 18.265625 -1.421875 13.375 4.4375 \r\nQ 8.5 10.296875 8.5 21.578125 \r\nz\r\nM 31.109375 56 \r\nz\r\n\" id=\"DejaVuSans-117\"/>\r\n       <path d=\"M 54.890625 33.015625 \r\nL 54.890625 0 \r\nL 45.90625 0 \r\nL 45.90625 32.71875 \r\nQ 45.90625 40.484375 42.875 44.328125 \r\nQ 39.84375 48.1875 33.796875 48.1875 \r\nQ 26.515625 48.1875 22.3125 43.546875 \r\nQ 18.109375 38.921875 18.109375 30.90625 \r\nL 18.109375 0 \r\nL 9.078125 0 \r\nL 9.078125 54.6875 \r\nL 18.109375 54.6875 \r\nL 18.109375 46.1875 \r\nQ 21.34375 51.125 25.703125 53.5625 \r\nQ 30.078125 56 35.796875 56 \r\nQ 45.21875 56 50.046875 50.171875 \r\nQ 54.890625 44.34375 54.890625 33.015625 \r\nz\r\n\" id=\"DejaVuSans-110\"/>\r\n       <path d=\"M 18.3125 70.21875 \r\nL 18.3125 54.6875 \r\nL 36.8125 54.6875 \r\nL 36.8125 47.703125 \r\nL 18.3125 47.703125 \r\nL 18.3125 18.015625 \r\nQ 18.3125 11.328125 20.140625 9.421875 \r\nQ 21.96875 7.515625 27.59375 7.515625 \r\nL 36.8125 7.515625 \r\nL 36.8125 0 \r\nL 27.59375 0 \r\nQ 17.1875 0 13.234375 3.875 \r\nQ 9.28125 7.765625 9.28125 18.015625 \r\nL 9.28125 47.703125 \r\nL 2.6875 47.703125 \r\nL 2.6875 54.6875 \r\nL 9.28125 54.6875 \r\nL 9.28125 70.21875 \r\nz\r\n\" id=\"DejaVuSans-116\"/>\r\n      </defs>\r\n      <use xlink:href=\"#DejaVuSans-67\"/>\r\n      <use x=\"69.824219\" xlink:href=\"#DejaVuSans-111\"/>\r\n      <use x=\"131.005859\" xlink:href=\"#DejaVuSans-117\"/>\r\n      <use x=\"194.384766\" xlink:href=\"#DejaVuSans-110\"/>\r\n      <use x=\"257.763672\" xlink:href=\"#DejaVuSans-116\"/>\r\n     </g>\r\n    </g>\r\n   </g>\r\n   <g id=\"matplotlib.axis_2\">\r\n    <g id=\"ytick_1\">\r\n     <g id=\"line2d_6\">\r\n      <defs>\r\n       <path d=\"M 0 0 \r\nL -3.5 0 \r\n\" id=\"m093f261df1\" style=\"stroke:#000000;stroke-width:0.8;\"/>\r\n      </defs>\r\n      <g>\r\n       <use style=\"stroke:#000000;stroke-width:0.8;\" x=\"134.959375\" xlink:href=\"#m093f261df1\" y=\"32.201761\"/>\r\n      </g>\r\n     </g>\r\n     <g id=\"text_7\">\r\n      <!-- mean radius -->\r\n      <g transform=\"translate(65.509375 36.00098)scale(0.1 -0.1)\">\r\n       <defs>\r\n        <path d=\"M 52 44.1875 \r\nQ 55.375 50.25 60.0625 53.125 \r\nQ 64.75 56 71.09375 56 \r\nQ 79.640625 56 84.28125 50.015625 \r\nQ 88.921875 44.046875 88.921875 33.015625 \r\nL 88.921875 0 \r\nL 79.890625 0 \r\nL 79.890625 32.71875 \r\nQ 79.890625 40.578125 77.09375 44.375 \r\nQ 74.3125 48.1875 68.609375 48.1875 \r\nQ 61.625 48.1875 57.5625 43.546875 \r\nQ 53.515625 38.921875 53.515625 30.90625 \r\nL 53.515625 0 \r\nL 44.484375 0 \r\nL 44.484375 32.71875 \r\nQ 44.484375 40.625 41.703125 44.40625 \r\nQ 38.921875 48.1875 33.109375 48.1875 \r\nQ 26.21875 48.1875 22.15625 43.53125 \r\nQ 18.109375 38.875 18.109375 30.90625 \r\nL 18.109375 0 \r\nL 9.078125 0 \r\nL 9.078125 54.6875 \r\nL 18.109375 54.6875 \r\nL 18.109375 46.1875 \r\nQ 21.1875 51.21875 25.484375 53.609375 \r\nQ 29.78125 56 35.6875 56 \r\nQ 41.65625 56 45.828125 52.96875 \r\nQ 50 49.953125 52 44.1875 \r\nz\r\n\" id=\"DejaVuSans-109\"/>\r\n        <path d=\"M 56.203125 29.59375 \r\nL 56.203125 25.203125 \r\nL 14.890625 25.203125 \r\nQ 15.484375 15.921875 20.484375 11.0625 \r\nQ 25.484375 6.203125 34.421875 6.203125 \r\nQ 39.59375 6.203125 44.453125 7.46875 \r\nQ 49.3125 8.734375 54.109375 11.28125 \r\nL 54.109375 2.78125 \r\nQ 49.265625 0.734375 44.1875 -0.34375 \r\nQ 39.109375 -1.421875 33.890625 -1.421875 \r\nQ 20.796875 -1.421875 13.15625 6.1875 \r\nQ 5.515625 13.8125 5.515625 26.8125 \r\nQ 5.515625 40.234375 12.765625 48.109375 \r\nQ 20.015625 56 32.328125 56 \r\nQ 43.359375 56 49.78125 48.890625 \r\nQ 56.203125 41.796875 56.203125 29.59375 \r\nz\r\nM 47.21875 32.234375 \r\nQ 47.125 39.59375 43.09375 43.984375 \r\nQ 39.0625 48.390625 32.421875 48.390625 \r\nQ 24.90625 48.390625 20.390625 44.140625 \r\nQ 15.875 39.890625 15.1875 32.171875 \r\nz\r\n\" id=\"DejaVuSans-101\"/>\r\n        <path d=\"M 34.28125 27.484375 \r\nQ 23.390625 27.484375 19.1875 25 \r\nQ 14.984375 22.515625 14.984375 16.5 \r\nQ 14.984375 11.71875 18.140625 8.90625 \r\nQ 21.296875 6.109375 26.703125 6.109375 \r\nQ 34.1875 6.109375 38.703125 11.40625 \r\nQ 43.21875 16.703125 43.21875 25.484375 \r\nL 43.21875 27.484375 \r\nz\r\nM 52.203125 31.203125 \r\nL 52.203125 0 \r\nL 43.21875 0 \r\nL 43.21875 8.296875 \r\nQ 40.140625 3.328125 35.546875 0.953125 \r\nQ 30.953125 -1.421875 24.3125 -1.421875 \r\nQ 15.921875 -1.421875 10.953125 3.296875 \r\nQ 6 8.015625 6 15.921875 \r\nQ 6 25.140625 12.171875 29.828125 \r\nQ 18.359375 34.515625 30.609375 34.515625 \r\nL 43.21875 34.515625 \r\nL 43.21875 35.40625 \r\nQ 43.21875 41.609375 39.140625 45 \r\nQ 35.0625 48.390625 27.6875 48.390625 \r\nQ 23 48.390625 18.546875 47.265625 \r\nQ 14.109375 46.140625 10.015625 43.890625 \r\nL 10.015625 52.203125 \r\nQ 14.9375 54.109375 19.578125 55.046875 \r\nQ 24.21875 56 28.609375 56 \r\nQ 40.484375 56 46.34375 49.84375 \r\nQ 52.203125 43.703125 52.203125 31.203125 \r\nz\r\n\" id=\"DejaVuSans-97\"/>\r\n        <path id=\"DejaVuSans-32\"/>\r\n        <path d=\"M 41.109375 46.296875 \r\nQ 39.59375 47.171875 37.8125 47.578125 \r\nQ 36.03125 48 33.890625 48 \r\nQ 26.265625 48 22.1875 43.046875 \r\nQ 18.109375 38.09375 18.109375 28.8125 \r\nL 18.109375 0 \r\nL 9.078125 0 \r\nL 9.078125 54.6875 \r\nL 18.109375 54.6875 \r\nL 18.109375 46.1875 \r\nQ 20.953125 51.171875 25.484375 53.578125 \r\nQ 30.03125 56 36.53125 56 \r\nQ 37.453125 56 38.578125 55.875 \r\nQ 39.703125 55.765625 41.0625 55.515625 \r\nz\r\n\" id=\"DejaVuSans-114\"/>\r\n        <path d=\"M 45.40625 46.390625 \r\nL 45.40625 75.984375 \r\nL 54.390625 75.984375 \r\nL 54.390625 0 \r\nL 45.40625 0 \r\nL 45.40625 8.203125 \r\nQ 42.578125 3.328125 38.25 0.953125 \r\nQ 33.9375 -1.421875 27.875 -1.421875 \r\nQ 17.96875 -1.421875 11.734375 6.484375 \r\nQ 5.515625 14.40625 5.515625 27.296875 \r\nQ 5.515625 40.1875 11.734375 48.09375 \r\nQ 17.96875 56 27.875 56 \r\nQ 33.9375 56 38.25 53.625 \r\nQ 42.578125 51.265625 45.40625 46.390625 \r\nz\r\nM 14.796875 27.296875 \r\nQ 14.796875 17.390625 18.875 11.75 \r\nQ 22.953125 6.109375 30.078125 6.109375 \r\nQ 37.203125 6.109375 41.296875 11.75 \r\nQ 45.40625 17.390625 45.40625 27.296875 \r\nQ 45.40625 37.203125 41.296875 42.84375 \r\nQ 37.203125 48.484375 30.078125 48.484375 \r\nQ 22.953125 48.484375 18.875 42.84375 \r\nQ 14.796875 37.203125 14.796875 27.296875 \r\nz\r\n\" id=\"DejaVuSans-100\"/>\r\n        <path d=\"M 9.421875 54.6875 \r\nL 18.40625 54.6875 \r\nL 18.40625 0 \r\nL 9.421875 0 \r\nz\r\nM 9.421875 75.984375 \r\nL 18.40625 75.984375 \r\nL 18.40625 64.59375 \r\nL 9.421875 64.59375 \r\nz\r\n\" id=\"DejaVuSans-105\"/>\r\n        <path d=\"M 44.28125 53.078125 \r\nL 44.28125 44.578125 \r\nQ 40.484375 46.53125 36.375 47.5 \r\nQ 32.28125 48.484375 27.875 48.484375 \r\nQ 21.1875 48.484375 17.84375 46.4375 \r\nQ 14.5 44.390625 14.5 40.28125 \r\nQ 14.5 37.15625 16.890625 35.375 \r\nQ 19.28125 33.59375 26.515625 31.984375 \r\nL 29.59375 31.296875 \r\nQ 39.15625 29.25 43.1875 25.515625 \r\nQ 47.21875 21.78125 47.21875 15.09375 \r\nQ 47.21875 7.46875 41.1875 3.015625 \r\nQ 35.15625 -1.421875 24.609375 -1.421875 \r\nQ 20.21875 -1.421875 15.453125 -0.5625 \r\nQ 10.6875 0.296875 5.421875 2 \r\nL 5.421875 11.28125 \r\nQ 10.40625 8.6875 15.234375 7.390625 \r\nQ 20.0625 6.109375 24.8125 6.109375 \r\nQ 31.15625 6.109375 34.5625 8.28125 \r\nQ 37.984375 10.453125 37.984375 14.40625 \r\nQ 37.984375 18.0625 35.515625 20.015625 \r\nQ 33.0625 21.96875 24.703125 23.78125 \r\nL 21.578125 24.515625 \r\nQ 13.234375 26.265625 9.515625 29.90625 \r\nQ 5.8125 33.546875 5.8125 39.890625 \r\nQ 5.8125 47.609375 11.28125 51.796875 \r\nQ 16.75 56 26.8125 56 \r\nQ 31.78125 56 36.171875 55.265625 \r\nQ 40.578125 54.546875 44.28125 53.078125 \r\nz\r\n\" id=\"DejaVuSans-115\"/>\r\n       </defs>\r\n       <use xlink:href=\"#DejaVuSans-109\"/>\r\n       <use x=\"97.412109\" xlink:href=\"#DejaVuSans-101\"/>\r\n       <use x=\"158.935547\" xlink:href=\"#DejaVuSans-97\"/>\r\n       <use x=\"220.214844\" xlink:href=\"#DejaVuSans-110\"/>\r\n       <use x=\"283.59375\" xlink:href=\"#DejaVuSans-32\"/>\r\n       <use x=\"315.380859\" xlink:href=\"#DejaVuSans-114\"/>\r\n       <use x=\"356.494141\" xlink:href=\"#DejaVuSans-97\"/>\r\n       <use x=\"417.773438\" xlink:href=\"#DejaVuSans-100\"/>\r\n       <use x=\"481.25\" xlink:href=\"#DejaVuSans-105\"/>\r\n       <use x=\"509.033203\" xlink:href=\"#DejaVuSans-117\"/>\r\n       <use x=\"572.412109\" xlink:href=\"#DejaVuSans-115\"/>\r\n      </g>\r\n     </g>\r\n    </g>\r\n    <g id=\"ytick_2\">\r\n     <g id=\"line2d_7\">\r\n      <g>\r\n       <use style=\"stroke:#000000;stroke-width:0.8;\" x=\"134.959375\" xlink:href=\"#m093f261df1\" y=\"51.969034\"/>\r\n      </g>\r\n     </g>\r\n     <g id=\"text_8\">\r\n      <!-- worst texture -->\r\n      <g transform=\"translate(61.129688 55.768253)scale(0.1 -0.1)\">\r\n       <defs>\r\n        <path d=\"M 4.203125 54.6875 \r\nL 13.1875 54.6875 \r\nL 24.421875 12.015625 \r\nL 35.59375 54.6875 \r\nL 46.1875 54.6875 \r\nL 57.421875 12.015625 \r\nL 68.609375 54.6875 \r\nL 77.59375 54.6875 \r\nL 63.28125 0 \r\nL 52.6875 0 \r\nL 40.921875 44.828125 \r\nL 29.109375 0 \r\nL 18.5 0 \r\nz\r\n\" id=\"DejaVuSans-119\"/>\r\n        <path d=\"M 54.890625 54.6875 \r\nL 35.109375 28.078125 \r\nL 55.90625 0 \r\nL 45.3125 0 \r\nL 29.390625 21.484375 \r\nL 13.484375 0 \r\nL 2.875 0 \r\nL 24.125 28.609375 \r\nL 4.6875 54.6875 \r\nL 15.28125 54.6875 \r\nL 29.78125 35.203125 \r\nL 44.28125 54.6875 \r\nz\r\n\" id=\"DejaVuSans-120\"/>\r\n       </defs>\r\n       <use xlink:href=\"#DejaVuSans-119\"/>\r\n       <use x=\"81.787109\" xlink:href=\"#DejaVuSans-111\"/>\r\n       <use x=\"142.96875\" xlink:href=\"#DejaVuSans-114\"/>\r\n       <use x=\"184.082031\" xlink:href=\"#DejaVuSans-115\"/>\r\n       <use x=\"236.181641\" xlink:href=\"#DejaVuSans-116\"/>\r\n       <use x=\"275.390625\" xlink:href=\"#DejaVuSans-32\"/>\r\n       <use x=\"307.177734\" xlink:href=\"#DejaVuSans-116\"/>\r\n       <use x=\"346.386719\" xlink:href=\"#DejaVuSans-101\"/>\r\n       <use x=\"406.160156\" xlink:href=\"#DejaVuSans-120\"/>\r\n       <use x=\"465.339844\" xlink:href=\"#DejaVuSans-116\"/>\r\n       <use x=\"504.548828\" xlink:href=\"#DejaVuSans-117\"/>\r\n       <use x=\"567.927734\" xlink:href=\"#DejaVuSans-114\"/>\r\n       <use x=\"606.791016\" xlink:href=\"#DejaVuSans-101\"/>\r\n      </g>\r\n     </g>\r\n    </g>\r\n    <g id=\"ytick_3\">\r\n     <g id=\"line2d_8\">\r\n      <g>\r\n       <use style=\"stroke:#000000;stroke-width:0.8;\" x=\"134.959375\" xlink:href=\"#m093f261df1\" y=\"71.736307\"/>\r\n      </g>\r\n     </g>\r\n     <g id=\"text_9\">\r\n      <!-- mean texture -->\r\n      <g transform=\"translate(60.307813 75.535526)scale(0.1 -0.1)\">\r\n       <use xlink:href=\"#DejaVuSans-109\"/>\r\n       <use x=\"97.412109\" xlink:href=\"#DejaVuSans-101\"/>\r\n       <use x=\"158.935547\" xlink:href=\"#DejaVuSans-97\"/>\r\n       <use x=\"220.214844\" xlink:href=\"#DejaVuSans-110\"/>\r\n       <use x=\"283.59375\" xlink:href=\"#DejaVuSans-32\"/>\r\n       <use x=\"315.380859\" xlink:href=\"#DejaVuSans-116\"/>\r\n       <use x=\"354.589844\" xlink:href=\"#DejaVuSans-101\"/>\r\n       <use x=\"414.363281\" xlink:href=\"#DejaVuSans-120\"/>\r\n       <use x=\"473.542969\" xlink:href=\"#DejaVuSans-116\"/>\r\n       <use x=\"512.751953\" xlink:href=\"#DejaVuSans-117\"/>\r\n       <use x=\"576.130859\" xlink:href=\"#DejaVuSans-114\"/>\r\n       <use x=\"614.994141\" xlink:href=\"#DejaVuSans-101\"/>\r\n      </g>\r\n     </g>\r\n    </g>\r\n    <g id=\"ytick_4\">\r\n     <g id=\"line2d_9\">\r\n      <g>\r\n       <use style=\"stroke:#000000;stroke-width:0.8;\" x=\"134.959375\" xlink:href=\"#m093f261df1\" y=\"91.50358\"/>\r\n      </g>\r\n     </g>\r\n     <g id=\"text_10\">\r\n      <!-- worst radius -->\r\n      <g transform=\"translate(66.33125 95.302798)scale(0.1 -0.1)\">\r\n       <use xlink:href=\"#DejaVuSans-119\"/>\r\n       <use x=\"81.787109\" xlink:href=\"#DejaVuSans-111\"/>\r\n       <use x=\"142.96875\" xlink:href=\"#DejaVuSans-114\"/>\r\n       <use x=\"184.082031\" xlink:href=\"#DejaVuSans-115\"/>\r\n       <use x=\"236.181641\" xlink:href=\"#DejaVuSans-116\"/>\r\n       <use x=\"275.390625\" xlink:href=\"#DejaVuSans-32\"/>\r\n       <use x=\"307.177734\" xlink:href=\"#DejaVuSans-114\"/>\r\n       <use x=\"348.291016\" xlink:href=\"#DejaVuSans-97\"/>\r\n       <use x=\"409.570312\" xlink:href=\"#DejaVuSans-100\"/>\r\n       <use x=\"473.046875\" xlink:href=\"#DejaVuSans-105\"/>\r\n       <use x=\"500.830078\" xlink:href=\"#DejaVuSans-117\"/>\r\n       <use x=\"564.208984\" xlink:href=\"#DejaVuSans-115\"/>\r\n      </g>\r\n     </g>\r\n    </g>\r\n    <g id=\"ytick_5\">\r\n     <g id=\"line2d_10\">\r\n      <g>\r\n       <use style=\"stroke:#000000;stroke-width:0.8;\" x=\"134.959375\" xlink:href=\"#m093f261df1\" y=\"111.270852\"/>\r\n      </g>\r\n     </g>\r\n     <g id=\"text_11\">\r\n      <!-- worst concave points -->\r\n      <g transform=\"translate(21.7 115.070071)scale(0.1 -0.1)\">\r\n       <defs>\r\n        <path d=\"M 48.78125 52.59375 \r\nL 48.78125 44.1875 \r\nQ 44.96875 46.296875 41.140625 47.34375 \r\nQ 37.3125 48.390625 33.40625 48.390625 \r\nQ 24.65625 48.390625 19.8125 42.84375 \r\nQ 14.984375 37.3125 14.984375 27.296875 \r\nQ 14.984375 17.28125 19.8125 11.734375 \r\nQ 24.65625 6.203125 33.40625 6.203125 \r\nQ 37.3125 6.203125 41.140625 7.25 \r\nQ 44.96875 8.296875 48.78125 10.40625 \r\nL 48.78125 2.09375 \r\nQ 45.015625 0.34375 40.984375 -0.53125 \r\nQ 36.96875 -1.421875 32.421875 -1.421875 \r\nQ 20.0625 -1.421875 12.78125 6.34375 \r\nQ 5.515625 14.109375 5.515625 27.296875 \r\nQ 5.515625 40.671875 12.859375 48.328125 \r\nQ 20.21875 56 33.015625 56 \r\nQ 37.15625 56 41.109375 55.140625 \r\nQ 45.0625 54.296875 48.78125 52.59375 \r\nz\r\n\" id=\"DejaVuSans-99\"/>\r\n        <path d=\"M 2.984375 54.6875 \r\nL 12.5 54.6875 \r\nL 29.59375 8.796875 \r\nL 46.6875 54.6875 \r\nL 56.203125 54.6875 \r\nL 35.6875 0 \r\nL 23.484375 0 \r\nz\r\n\" id=\"DejaVuSans-118\"/>\r\n        <path d=\"M 18.109375 8.203125 \r\nL 18.109375 -20.796875 \r\nL 9.078125 -20.796875 \r\nL 9.078125 54.6875 \r\nL 18.109375 54.6875 \r\nL 18.109375 46.390625 \r\nQ 20.953125 51.265625 25.265625 53.625 \r\nQ 29.59375 56 35.59375 56 \r\nQ 45.5625 56 51.78125 48.09375 \r\nQ 58.015625 40.1875 58.015625 27.296875 \r\nQ 58.015625 14.40625 51.78125 6.484375 \r\nQ 45.5625 -1.421875 35.59375 -1.421875 \r\nQ 29.59375 -1.421875 25.265625 0.953125 \r\nQ 20.953125 3.328125 18.109375 8.203125 \r\nz\r\nM 48.6875 27.296875 \r\nQ 48.6875 37.203125 44.609375 42.84375 \r\nQ 40.53125 48.484375 33.40625 48.484375 \r\nQ 26.265625 48.484375 22.1875 42.84375 \r\nQ 18.109375 37.203125 18.109375 27.296875 \r\nQ 18.109375 17.390625 22.1875 11.75 \r\nQ 26.265625 6.109375 33.40625 6.109375 \r\nQ 40.53125 6.109375 44.609375 11.75 \r\nQ 48.6875 17.390625 48.6875 27.296875 \r\nz\r\n\" id=\"DejaVuSans-112\"/>\r\n       </defs>\r\n       <use xlink:href=\"#DejaVuSans-119\"/>\r\n       <use x=\"81.787109\" xlink:href=\"#DejaVuSans-111\"/>\r\n       <use x=\"142.96875\" xlink:href=\"#DejaVuSans-114\"/>\r\n       <use x=\"184.082031\" xlink:href=\"#DejaVuSans-115\"/>\r\n       <use x=\"236.181641\" xlink:href=\"#DejaVuSans-116\"/>\r\n       <use x=\"275.390625\" xlink:href=\"#DejaVuSans-32\"/>\r\n       <use x=\"307.177734\" xlink:href=\"#DejaVuSans-99\"/>\r\n       <use x=\"362.158203\" xlink:href=\"#DejaVuSans-111\"/>\r\n       <use x=\"423.339844\" xlink:href=\"#DejaVuSans-110\"/>\r\n       <use x=\"486.71875\" xlink:href=\"#DejaVuSans-99\"/>\r\n       <use x=\"541.699219\" xlink:href=\"#DejaVuSans-97\"/>\r\n       <use x=\"602.978516\" xlink:href=\"#DejaVuSans-118\"/>\r\n       <use x=\"662.158203\" xlink:href=\"#DejaVuSans-101\"/>\r\n       <use x=\"723.681641\" xlink:href=\"#DejaVuSans-32\"/>\r\n       <use x=\"755.46875\" xlink:href=\"#DejaVuSans-112\"/>\r\n       <use x=\"818.945312\" xlink:href=\"#DejaVuSans-111\"/>\r\n       <use x=\"880.126953\" xlink:href=\"#DejaVuSans-105\"/>\r\n       <use x=\"907.910156\" xlink:href=\"#DejaVuSans-110\"/>\r\n       <use x=\"971.289062\" xlink:href=\"#DejaVuSans-116\"/>\r\n       <use x=\"1010.498047\" xlink:href=\"#DejaVuSans-115\"/>\r\n      </g>\r\n     </g>\r\n    </g>\r\n    <g id=\"ytick_6\">\r\n     <g id=\"line2d_11\">\r\n      <g>\r\n       <use style=\"stroke:#000000;stroke-width:0.8;\" x=\"134.959375\" xlink:href=\"#m093f261df1\" y=\"131.038125\"/>\r\n      </g>\r\n     </g>\r\n     <g id=\"text_12\">\r\n      <!-- area error -->\r\n      <g transform=\"translate(78.28125 134.837344)scale(0.1 -0.1)\">\r\n       <use xlink:href=\"#DejaVuSans-97\"/>\r\n       <use x=\"61.279297\" xlink:href=\"#DejaVuSans-114\"/>\r\n       <use x=\"100.142578\" xlink:href=\"#DejaVuSans-101\"/>\r\n       <use x=\"161.666016\" xlink:href=\"#DejaVuSans-97\"/>\r\n       <use x=\"222.945312\" xlink:href=\"#DejaVuSans-32\"/>\r\n       <use x=\"254.732422\" xlink:href=\"#DejaVuSans-101\"/>\r\n       <use x=\"316.255859\" xlink:href=\"#DejaVuSans-114\"/>\r\n       <use x=\"355.619141\" xlink:href=\"#DejaVuSans-114\"/>\r\n       <use x=\"394.482422\" xlink:href=\"#DejaVuSans-111\"/>\r\n       <use x=\"455.664062\" xlink:href=\"#DejaVuSans-114\"/>\r\n      </g>\r\n     </g>\r\n    </g>\r\n    <g id=\"ytick_7\">\r\n     <g id=\"line2d_12\">\r\n      <g>\r\n       <use style=\"stroke:#000000;stroke-width:0.8;\" x=\"134.959375\" xlink:href=\"#m093f261df1\" y=\"150.805398\"/>\r\n      </g>\r\n     </g>\r\n     <g id=\"text_13\">\r\n      <!-- worst area -->\r\n      <g transform=\"translate(74.948438 154.604616)scale(0.1 -0.1)\">\r\n       <use xlink:href=\"#DejaVuSans-119\"/>\r\n       <use x=\"81.787109\" xlink:href=\"#DejaVuSans-111\"/>\r\n       <use x=\"142.96875\" xlink:href=\"#DejaVuSans-114\"/>\r\n       <use x=\"184.082031\" xlink:href=\"#DejaVuSans-115\"/>\r\n       <use x=\"236.181641\" xlink:href=\"#DejaVuSans-116\"/>\r\n       <use x=\"275.390625\" xlink:href=\"#DejaVuSans-32\"/>\r\n       <use x=\"307.177734\" xlink:href=\"#DejaVuSans-97\"/>\r\n       <use x=\"368.457031\" xlink:href=\"#DejaVuSans-114\"/>\r\n       <use x=\"407.320312\" xlink:href=\"#DejaVuSans-101\"/>\r\n       <use x=\"468.84375\" xlink:href=\"#DejaVuSans-97\"/>\r\n      </g>\r\n     </g>\r\n    </g>\r\n    <g id=\"ytick_8\">\r\n     <g id=\"line2d_13\">\r\n      <g>\r\n       <use style=\"stroke:#000000;stroke-width:0.8;\" x=\"134.959375\" xlink:href=\"#m093f261df1\" y=\"170.57267\"/>\r\n      </g>\r\n     </g>\r\n     <g id=\"text_14\">\r\n      <!-- mean perimeter -->\r\n      <g transform=\"translate(46.953125 174.371889)scale(0.1 -0.1)\">\r\n       <use xlink:href=\"#DejaVuSans-109\"/>\r\n       <use x=\"97.412109\" xlink:href=\"#DejaVuSans-101\"/>\r\n       <use x=\"158.935547\" xlink:href=\"#DejaVuSans-97\"/>\r\n       <use x=\"220.214844\" xlink:href=\"#DejaVuSans-110\"/>\r\n       <use x=\"283.59375\" xlink:href=\"#DejaVuSans-32\"/>\r\n       <use x=\"315.380859\" xlink:href=\"#DejaVuSans-112\"/>\r\n       <use x=\"378.857422\" xlink:href=\"#DejaVuSans-101\"/>\r\n       <use x=\"440.380859\" xlink:href=\"#DejaVuSans-114\"/>\r\n       <use x=\"481.494141\" xlink:href=\"#DejaVuSans-105\"/>\r\n       <use x=\"509.277344\" xlink:href=\"#DejaVuSans-109\"/>\r\n       <use x=\"606.689453\" xlink:href=\"#DejaVuSans-101\"/>\r\n       <use x=\"668.212891\" xlink:href=\"#DejaVuSans-116\"/>\r\n       <use x=\"707.421875\" xlink:href=\"#DejaVuSans-101\"/>\r\n       <use x=\"768.945312\" xlink:href=\"#DejaVuSans-114\"/>\r\n      </g>\r\n     </g>\r\n    </g>\r\n    <g id=\"ytick_9\">\r\n     <g id=\"line2d_14\">\r\n      <g>\r\n       <use style=\"stroke:#000000;stroke-width:0.8;\" x=\"134.959375\" xlink:href=\"#m093f261df1\" y=\"190.339943\"/>\r\n      </g>\r\n     </g>\r\n     <g id=\"text_15\">\r\n      <!-- mean concavity -->\r\n      <g transform=\"translate(48.304688 194.139162)scale(0.1 -0.1)\">\r\n       <defs>\r\n        <path d=\"M 32.171875 -5.078125 \r\nQ 28.375 -14.84375 24.75 -17.8125 \r\nQ 21.140625 -20.796875 15.09375 -20.796875 \r\nL 7.90625 -20.796875 \r\nL 7.90625 -13.28125 \r\nL 13.1875 -13.28125 \r\nQ 16.890625 -13.28125 18.9375 -11.515625 \r\nQ 21 -9.765625 23.484375 -3.21875 \r\nL 25.09375 0.875 \r\nL 2.984375 54.6875 \r\nL 12.5 54.6875 \r\nL 29.59375 11.921875 \r\nL 46.6875 54.6875 \r\nL 56.203125 54.6875 \r\nz\r\n\" id=\"DejaVuSans-121\"/>\r\n       </defs>\r\n       <use xlink:href=\"#DejaVuSans-109\"/>\r\n       <use x=\"97.412109\" xlink:href=\"#DejaVuSans-101\"/>\r\n       <use x=\"158.935547\" xlink:href=\"#DejaVuSans-97\"/>\r\n       <use x=\"220.214844\" xlink:href=\"#DejaVuSans-110\"/>\r\n       <use x=\"283.59375\" xlink:href=\"#DejaVuSans-32\"/>\r\n       <use x=\"315.380859\" xlink:href=\"#DejaVuSans-99\"/>\r\n       <use x=\"370.361328\" xlink:href=\"#DejaVuSans-111\"/>\r\n       <use x=\"431.542969\" xlink:href=\"#DejaVuSans-110\"/>\r\n       <use x=\"494.921875\" xlink:href=\"#DejaVuSans-99\"/>\r\n       <use x=\"549.902344\" xlink:href=\"#DejaVuSans-97\"/>\r\n       <use x=\"611.181641\" xlink:href=\"#DejaVuSans-118\"/>\r\n       <use x=\"670.361328\" xlink:href=\"#DejaVuSans-105\"/>\r\n       <use x=\"698.144531\" xlink:href=\"#DejaVuSans-116\"/>\r\n       <use x=\"737.353516\" xlink:href=\"#DejaVuSans-121\"/>\r\n      </g>\r\n     </g>\r\n    </g>\r\n    <g id=\"ytick_10\">\r\n     <g id=\"line2d_15\">\r\n      <g>\r\n       <use style=\"stroke:#000000;stroke-width:0.8;\" x=\"134.959375\" xlink:href=\"#m093f261df1\" y=\"210.107216\"/>\r\n      </g>\r\n     </g>\r\n     <g id=\"text_16\">\r\n      <!-- mean concave points -->\r\n      <g transform=\"translate(20.878125 213.906435)scale(0.1 -0.1)\">\r\n       <use xlink:href=\"#DejaVuSans-109\"/>\r\n       <use x=\"97.412109\" xlink:href=\"#DejaVuSans-101\"/>\r\n       <use x=\"158.935547\" xlink:href=\"#DejaVuSans-97\"/>\r\n       <use x=\"220.214844\" xlink:href=\"#DejaVuSans-110\"/>\r\n       <use x=\"283.59375\" xlink:href=\"#DejaVuSans-32\"/>\r\n       <use x=\"315.380859\" xlink:href=\"#DejaVuSans-99\"/>\r\n       <use x=\"370.361328\" xlink:href=\"#DejaVuSans-111\"/>\r\n       <use x=\"431.542969\" xlink:href=\"#DejaVuSans-110\"/>\r\n       <use x=\"494.921875\" xlink:href=\"#DejaVuSans-99\"/>\r\n       <use x=\"549.902344\" xlink:href=\"#DejaVuSans-97\"/>\r\n       <use x=\"611.181641\" xlink:href=\"#DejaVuSans-118\"/>\r\n       <use x=\"670.361328\" xlink:href=\"#DejaVuSans-101\"/>\r\n       <use x=\"731.884766\" xlink:href=\"#DejaVuSans-32\"/>\r\n       <use x=\"763.671875\" xlink:href=\"#DejaVuSans-112\"/>\r\n       <use x=\"827.148438\" xlink:href=\"#DejaVuSans-111\"/>\r\n       <use x=\"888.330078\" xlink:href=\"#DejaVuSans-105\"/>\r\n       <use x=\"916.113281\" xlink:href=\"#DejaVuSans-110\"/>\r\n       <use x=\"979.492188\" xlink:href=\"#DejaVuSans-116\"/>\r\n       <use x=\"1018.701172\" xlink:href=\"#DejaVuSans-115\"/>\r\n      </g>\r\n     </g>\r\n    </g>\r\n    <g id=\"ytick_11\">\r\n     <g id=\"line2d_16\">\r\n      <g>\r\n       <use style=\"stroke:#000000;stroke-width:0.8;\" x=\"134.959375\" xlink:href=\"#m093f261df1\" y=\"229.874489\"/>\r\n      </g>\r\n     </g>\r\n     <g id=\"text_17\">\r\n      <!-- worst concavity -->\r\n      <g transform=\"translate(49.126563 233.673707)scale(0.1 -0.1)\">\r\n       <use xlink:href=\"#DejaVuSans-119\"/>\r\n       <use x=\"81.787109\" xlink:href=\"#DejaVuSans-111\"/>\r\n       <use x=\"142.96875\" xlink:href=\"#DejaVuSans-114\"/>\r\n       <use x=\"184.082031\" xlink:href=\"#DejaVuSans-115\"/>\r\n       <use x=\"236.181641\" xlink:href=\"#DejaVuSans-116\"/>\r\n       <use x=\"275.390625\" xlink:href=\"#DejaVuSans-32\"/>\r\n       <use x=\"307.177734\" xlink:href=\"#DejaVuSans-99\"/>\r\n       <use x=\"362.158203\" xlink:href=\"#DejaVuSans-111\"/>\r\n       <use x=\"423.339844\" xlink:href=\"#DejaVuSans-110\"/>\r\n       <use x=\"486.71875\" xlink:href=\"#DejaVuSans-99\"/>\r\n       <use x=\"541.699219\" xlink:href=\"#DejaVuSans-97\"/>\r\n       <use x=\"602.978516\" xlink:href=\"#DejaVuSans-118\"/>\r\n       <use x=\"662.158203\" xlink:href=\"#DejaVuSans-105\"/>\r\n       <use x=\"689.941406\" xlink:href=\"#DejaVuSans-116\"/>\r\n       <use x=\"729.150391\" xlink:href=\"#DejaVuSans-121\"/>\r\n      </g>\r\n     </g>\r\n    </g>\r\n    <g id=\"text_18\">\r\n     <!-- Features -->\r\n     <g transform=\"translate(14.798438 152.532656)rotate(-90)scale(0.1 -0.1)\">\r\n      <defs>\r\n       <path d=\"M 9.8125 72.90625 \r\nL 51.703125 72.90625 \r\nL 51.703125 64.59375 \r\nL 19.671875 64.59375 \r\nL 19.671875 43.109375 \r\nL 48.578125 43.109375 \r\nL 48.578125 34.8125 \r\nL 19.671875 34.8125 \r\nL 19.671875 0 \r\nL 9.8125 0 \r\nz\r\n\" id=\"DejaVuSans-70\"/>\r\n      </defs>\r\n      <use xlink:href=\"#DejaVuSans-70\"/>\r\n      <use x=\"52.019531\" xlink:href=\"#DejaVuSans-101\"/>\r\n      <use x=\"113.542969\" xlink:href=\"#DejaVuSans-97\"/>\r\n      <use x=\"174.822266\" xlink:href=\"#DejaVuSans-116\"/>\r\n      <use x=\"214.03125\" xlink:href=\"#DejaVuSans-117\"/>\r\n      <use x=\"277.410156\" xlink:href=\"#DejaVuSans-114\"/>\r\n      <use x=\"316.273438\" xlink:href=\"#DejaVuSans-101\"/>\r\n      <use x=\"377.796875\" xlink:href=\"#DejaVuSans-115\"/>\r\n     </g>\r\n    </g>\r\n   </g>\r\n   <g id=\"line2d_17\">\r\n    <path clip-path=\"url(#p788aac3e11)\" d=\"M 0 0 \r\n\" style=\"fill:none;stroke:#424242;stroke-linecap:square;stroke-width:2.7;\"/>\r\n   </g>\r\n   <g id=\"line2d_18\">\r\n    <path clip-path=\"url(#p788aac3e11)\" d=\"M 0 0 \r\n\" style=\"fill:none;stroke:#424242;stroke-linecap:square;stroke-width:2.7;\"/>\r\n   </g>\r\n   <g id=\"line2d_19\">\r\n    <path clip-path=\"url(#p788aac3e11)\" d=\"M 0 0 \r\n\" style=\"fill:none;stroke:#424242;stroke-linecap:square;stroke-width:2.7;\"/>\r\n   </g>\r\n   <g id=\"line2d_20\">\r\n    <path clip-path=\"url(#p788aac3e11)\" d=\"M 0 0 \r\n\" style=\"fill:none;stroke:#424242;stroke-linecap:square;stroke-width:2.7;\"/>\r\n   </g>\r\n   <g id=\"line2d_21\">\r\n    <path clip-path=\"url(#p788aac3e11)\" d=\"M 0 0 \r\n\" style=\"fill:none;stroke:#424242;stroke-linecap:square;stroke-width:2.7;\"/>\r\n   </g>\r\n   <g id=\"line2d_22\">\r\n    <path clip-path=\"url(#p788aac3e11)\" d=\"M 0 0 \r\n\" style=\"fill:none;stroke:#424242;stroke-linecap:square;stroke-width:2.7;\"/>\r\n   </g>\r\n   <g id=\"line2d_23\">\r\n    <path clip-path=\"url(#p788aac3e11)\" d=\"M 0 0 \r\n\" style=\"fill:none;stroke:#424242;stroke-linecap:square;stroke-width:2.7;\"/>\r\n   </g>\r\n   <g id=\"line2d_24\">\r\n    <path clip-path=\"url(#p788aac3e11)\" d=\"M 0 0 \r\n\" style=\"fill:none;stroke:#424242;stroke-linecap:square;stroke-width:2.7;\"/>\r\n   </g>\r\n   <g id=\"line2d_25\">\r\n    <path clip-path=\"url(#p788aac3e11)\" d=\"M 0 0 \r\n\" style=\"fill:none;stroke:#424242;stroke-linecap:square;stroke-width:2.7;\"/>\r\n   </g>\r\n   <g id=\"line2d_26\">\r\n    <path clip-path=\"url(#p788aac3e11)\" d=\"M 0 0 \r\n\" style=\"fill:none;stroke:#424242;stroke-linecap:square;stroke-width:2.7;\"/>\r\n   </g>\r\n   <g id=\"line2d_27\">\r\n    <path clip-path=\"url(#p788aac3e11)\" d=\"M 0 0 \r\n\" style=\"fill:none;stroke:#424242;stroke-linecap:square;stroke-width:2.7;\"/>\r\n   </g>\r\n   <g id=\"patch_14\">\r\n    <path d=\"M 134.959375 239.758125 \r\nL 134.959375 22.318125 \r\n\" style=\"fill:none;stroke:#000000;stroke-linecap:square;stroke-linejoin:miter;stroke-width:0.8;\"/>\r\n   </g>\r\n   <g id=\"patch_15\">\r\n    <path d=\"M 469.759375 239.758125 \r\nL 469.759375 22.318125 \r\n\" style=\"fill:none;stroke:#000000;stroke-linecap:square;stroke-linejoin:miter;stroke-width:0.8;\"/>\r\n   </g>\r\n   <g id=\"patch_16\">\r\n    <path d=\"M 134.959375 239.758125 \r\nL 469.759375 239.758125 \r\n\" style=\"fill:none;stroke:#000000;stroke-linecap:square;stroke-linejoin:miter;stroke-width:0.8;\"/>\r\n   </g>\r\n   <g id=\"patch_17\">\r\n    <path d=\"M 134.959375 22.318125 \r\nL 469.759375 22.318125 \r\n\" style=\"fill:none;stroke:#000000;stroke-linecap:square;stroke-linejoin:miter;stroke-width:0.8;\"/>\r\n   </g>\r\n   <g id=\"text_19\">\r\n    <!-- Feature counts of clf_depth10 -->\r\n    <g transform=\"translate(212.956563 16.318125)scale(0.12 -0.12)\">\r\n     <defs>\r\n      <path d=\"M 37.109375 75.984375 \r\nL 37.109375 68.5 \r\nL 28.515625 68.5 \r\nQ 23.6875 68.5 21.796875 66.546875 \r\nQ 19.921875 64.59375 19.921875 59.515625 \r\nL 19.921875 54.6875 \r\nL 34.71875 54.6875 \r\nL 34.71875 47.703125 \r\nL 19.921875 47.703125 \r\nL 19.921875 0 \r\nL 10.890625 0 \r\nL 10.890625 47.703125 \r\nL 2.296875 47.703125 \r\nL 2.296875 54.6875 \r\nL 10.890625 54.6875 \r\nL 10.890625 58.5 \r\nQ 10.890625 67.625 15.140625 71.796875 \r\nQ 19.390625 75.984375 28.609375 75.984375 \r\nz\r\n\" id=\"DejaVuSans-102\"/>\r\n      <path d=\"M 9.421875 75.984375 \r\nL 18.40625 75.984375 \r\nL 18.40625 0 \r\nL 9.421875 0 \r\nz\r\n\" id=\"DejaVuSans-108\"/>\r\n      <path d=\"M 50.984375 -16.609375 \r\nL 50.984375 -23.578125 \r\nL -0.984375 -23.578125 \r\nL -0.984375 -16.609375 \r\nz\r\n\" id=\"DejaVuSans-95\"/>\r\n      <path d=\"M 54.890625 33.015625 \r\nL 54.890625 0 \r\nL 45.90625 0 \r\nL 45.90625 32.71875 \r\nQ 45.90625 40.484375 42.875 44.328125 \r\nQ 39.84375 48.1875 33.796875 48.1875 \r\nQ 26.515625 48.1875 22.3125 43.546875 \r\nQ 18.109375 38.921875 18.109375 30.90625 \r\nL 18.109375 0 \r\nL 9.078125 0 \r\nL 9.078125 75.984375 \r\nL 18.109375 75.984375 \r\nL 18.109375 46.1875 \r\nQ 21.34375 51.125 25.703125 53.5625 \r\nQ 30.078125 56 35.796875 56 \r\nQ 45.21875 56 50.046875 50.171875 \r\nQ 54.890625 44.34375 54.890625 33.015625 \r\nz\r\n\" id=\"DejaVuSans-104\"/>\r\n     </defs>\r\n     <use xlink:href=\"#DejaVuSans-70\"/>\r\n     <use x=\"52.019531\" xlink:href=\"#DejaVuSans-101\"/>\r\n     <use x=\"113.542969\" xlink:href=\"#DejaVuSans-97\"/>\r\n     <use x=\"174.822266\" xlink:href=\"#DejaVuSans-116\"/>\r\n     <use x=\"214.03125\" xlink:href=\"#DejaVuSans-117\"/>\r\n     <use x=\"277.410156\" xlink:href=\"#DejaVuSans-114\"/>\r\n     <use x=\"316.273438\" xlink:href=\"#DejaVuSans-101\"/>\r\n     <use x=\"377.796875\" xlink:href=\"#DejaVuSans-32\"/>\r\n     <use x=\"409.583984\" xlink:href=\"#DejaVuSans-99\"/>\r\n     <use x=\"464.564453\" xlink:href=\"#DejaVuSans-111\"/>\r\n     <use x=\"525.746094\" xlink:href=\"#DejaVuSans-117\"/>\r\n     <use x=\"589.125\" xlink:href=\"#DejaVuSans-110\"/>\r\n     <use x=\"652.503906\" xlink:href=\"#DejaVuSans-116\"/>\r\n     <use x=\"691.712891\" xlink:href=\"#DejaVuSans-115\"/>\r\n     <use x=\"743.8125\" xlink:href=\"#DejaVuSans-32\"/>\r\n     <use x=\"775.599609\" xlink:href=\"#DejaVuSans-111\"/>\r\n     <use x=\"836.78125\" xlink:href=\"#DejaVuSans-102\"/>\r\n     <use x=\"871.986328\" xlink:href=\"#DejaVuSans-32\"/>\r\n     <use x=\"903.773438\" xlink:href=\"#DejaVuSans-99\"/>\r\n     <use x=\"958.753906\" xlink:href=\"#DejaVuSans-108\"/>\r\n     <use x=\"986.537109\" xlink:href=\"#DejaVuSans-102\"/>\r\n     <use x=\"1021.742188\" xlink:href=\"#DejaVuSans-95\"/>\r\n     <use x=\"1071.742188\" xlink:href=\"#DejaVuSans-100\"/>\r\n     <use x=\"1135.21875\" xlink:href=\"#DejaVuSans-101\"/>\r\n     <use x=\"1196.742188\" xlink:href=\"#DejaVuSans-112\"/>\r\n     <use x=\"1260.21875\" xlink:href=\"#DejaVuSans-116\"/>\r\n     <use x=\"1299.427734\" xlink:href=\"#DejaVuSans-104\"/>\r\n     <use x=\"1362.806641\" xlink:href=\"#DejaVuSans-49\"/>\r\n     <use x=\"1426.429688\" xlink:href=\"#DejaVuSans-48\"/>\r\n    </g>\r\n   </g>\r\n  </g>\r\n </g>\r\n <defs>\r\n  <clipPath id=\"p788aac3e11\">\r\n   <rect height=\"217.44\" width=\"334.8\" x=\"134.959375\" y=\"22.318125\"/>\r\n  </clipPath>\r\n </defs>\r\n</svg>\r\n",
      "image/png": "[encoded data removed]"
     },
     "metadata": {
      "needs_background": "light"
     }
    }
   ],
   "source": [
    "# Plot feature counts of the model 'clf_depth10'\n",
    "import seaborn as sns\n",
    "\n",
    "df = pd.DataFrame(counts, columns=['Features', 'Count'])\n",
    "ax = sns.barplot(x='Count', y='Features', data=df)\n",
    "ax.set_title('Feature counts of clf_depth10')"
   ]
  },
  {
   "cell_type": "markdown",
   "metadata": {},
   "source": [
    "## Question 4\n",
    "implement the Random Forest algorithm by using the CART you just implemented from question 2. You should implement three arguments for the Random Forest.\n",
    "\n",
    "1. **N_estimators**: The number of trees in the forest. \n",
    "2. **Max_features**: The number of random select features to consider when looking for the best split\n",
    "3. **Bootstrap**: Whether bootstrap samples are used when building tree\n"
   ]
  },
  {
   "cell_type": "code",
   "execution_count": 16,
   "metadata": {},
   "outputs": [],
   "source": [
    "class RandomForest():\n",
    "    def __init__(self, n_estimators, max_features, boostrap=True, criterion='gini', max_depth=None):\n",
    "        return None"
   ]
  },
  {
   "cell_type": "markdown",
   "metadata": {},
   "source": [
    "### Question 4.1\n",
    "Using Criterion=‘gini’, Max_depth=None, Max_features=sqrt(n_features), showing the accuracy score of test data by n_estimators=10 and n_estimators=100, respectively.\n"
   ]
  },
  {
   "cell_type": "code",
   "execution_count": 17,
   "metadata": {},
   "outputs": [],
   "source": [
    "clf_10tree = RandomForest(n_estimators=10, max_features=np.sqrt(x_train.shape[1]))\n",
    "clf_100tree = RandomForest(n_estimators=100, max_features=np.sqrt(x_train.shape[1]))"
   ]
  },
  {
   "cell_type": "code",
   "execution_count": null,
   "metadata": {},
   "outputs": [],
   "source": []
  },
  {
   "cell_type": "markdown",
   "metadata": {},
   "source": [
    "### Question 4.2\n",
    "Using Criterion=‘gini’, Max_depth=None, N_estimators=10, showing the accuracy score of test data by Max_features=sqrt(n_features) and Max_features=n_features, respectively.\n"
   ]
  },
  {
   "cell_type": "code",
   "execution_count": 18,
   "metadata": {},
   "outputs": [],
   "source": [
    "clf_random_features = RandomForest(n_estimators=10, max_features=np.sqrt(x_train.shape[1]))\n",
    "clf_all_features = RandomForest(n_estimators=10, max_features=x_train.shape[1])"
   ]
  },
  {
   "cell_type": "markdown",
   "metadata": {},
   "source": [
    "- Note: Use majority votes to get the final prediction, you may get slightly different results when re-building the random forest model"
   ]
  },
  {
   "cell_type": "code",
   "execution_count": null,
   "metadata": {},
   "outputs": [],
   "source": []
  },
  {
   "cell_type": "markdown",
   "metadata": {},
   "source": [
    "## Supplementary\n",
    "If you have trouble to implement this homework, TA strongly recommend watching [this video](https://www.youtube.com/watch?v=LDRbO9a6XPU), which explains Decision Tree model clearly. But don't copy code from any resources, try to finish this homework by yourself! "
   ]
  }
 ],
 "metadata": {
  "kernelspec": {
   "name": "python387jvsc74a57bd073971114097a847891760271ed9e4a82bf53c842c05d942db8283790dc357343",
   "display_name": "Python 3.8.7 64-bit"
  },
  "language_info": {
   "codemirror_mode": {
    "name": "ipython",
    "version": 3
   },
   "file_extension": ".py",
   "mimetype": "text/x-python",
   "name": "python",
   "nbconvert_exporter": "python",
   "pygments_lexer": "ipython3",
   "version": "3.8.7"
  }
 },
 "nbformat": 4,
 "nbformat_minor": 4
}