{
 "cells": [
  {
   "cell_type": "markdown",
   "metadata": {},
   "source": [
    "## HW3: Decision Tree, Random Forest, and Adaboost\n",
    "In hw3, you need to implement decision tree, random forest and adaboost by using only numpy, then train your implemented model by the provided dataset and test the performance with testing data\n",
    "\n",
    "Please note that only **NUMPY** can be used to implement your model, you will get no points by simply calling sklearn.tree.DecisionTreeClassifier"
   ]
  },
  {
   "cell_type": "code",
   "execution_count": 1,
   "metadata": {},
   "outputs": [],
   "source": [
    "# !pip install sklearn"
   ]
  },
  {
   "cell_type": "markdown",
   "metadata": {},
   "source": [
    "## Load data"
   ]
  },
  {
   "cell_type": "code",
   "execution_count": 1,
   "metadata": {},
   "outputs": [],
   "source": [
    "import numpy as np\n",
    "import pandas as pd\n",
    "from sklearn.datasets import load_breast_cancer\n",
    "from sklearn.metrics import accuracy_score"
   ]
  },
  {
   "cell_type": "code",
   "execution_count": 2,
   "metadata": {},
   "outputs": [
    {
     "name": "stdout",
     "output_type": "stream",
     "text": [
      "['mean radius' 'mean texture' 'mean perimeter' 'mean area'\n",
      " 'mean smoothness' 'mean compactness' 'mean concavity'\n",
      " 'mean concave points' 'mean symmetry' 'mean fractal dimension'\n",
      " 'radius error' 'texture error' 'perimeter error' 'area error'\n",
      " 'smoothness error' 'compactness error' 'concavity error'\n",
      " 'concave points error' 'symmetry error' 'fractal dimension error'\n",
      " 'worst radius' 'worst texture' 'worst perimeter' 'worst area'\n",
      " 'worst smoothness' 'worst compactness' 'worst concavity'\n",
      " 'worst concave points' 'worst symmetry' 'worst fractal dimension']\n"
     ]
    }
   ],
   "source": [
    "data = load_breast_cancer()\n",
    "feature_names = data['feature_names']\n",
    "print(feature_names)"
   ]
  },
  {
   "cell_type": "code",
   "execution_count": 3,
   "metadata": {},
   "outputs": [],
   "source": [
    "x_train = pd.read_csv(\"x_train.csv\")\n",
    "y_train = pd.read_csv(\"y_train.csv\")\n",
    "x_test = pd.read_csv(\"x_test.csv\")\n",
    "y_test = pd.read_csv(\"y_test.csv\")"
   ]
  },
  {
   "cell_type": "markdown",
   "metadata": {},
   "source": [
    "## Question 1\n",
    "Gini Index or Entropy is often used for measuring the “best” splitting of the data. Please compute the Entropy and Gini Index of provided data. Please use the formula from the course sludes on E3"
   ]
  },
  {
   "cell_type": "code",
   "execution_count": 4,
   "metadata": {},
   "outputs": [],
   "source": [
    "def gini(sequence):\n",
    "    num_of_data = len(sequence)\n",
    "    counts = np.bincount(sequence)\n",
    "    probs = counts[np.nonzero(counts)] / num_of_data\n",
    "    return 1 - np.sum(np.square(probs))\n",
    "\n",
    "\n",
    "def entropy(sequence):\n",
    "    num_of_data = len(sequence)\n",
    "    counts = np.bincount(sequence)\n",
    "    probs = counts[np.nonzero(counts)] / num_of_data\n",
    "    num_of_classes = len(probs)\n",
    "    if(num_of_classes <= 1):\n",
    "        return 0\n",
    "    return - np.sum(probs * np.log2(probs))"
   ]
  },
  {
   "cell_type": "code",
   "execution_count": 5,
   "metadata": {},
   "outputs": [],
   "source": [
    "# 1 = class 1,\n",
    "# 2 = class 2\n",
    "data = np.array([1,2,1,1,1,1,2,2,1,1,2])"
   ]
  },
  {
   "cell_type": "code",
   "execution_count": 6,
   "metadata": {},
   "outputs": [
    {
     "name": "stdout",
     "output_type": "stream",
     "text": [
      "Gini of data is  0.4628099173553719\n"
     ]
    }
   ],
   "source": [
    "print(\"Gini of data is \", gini(data))"
   ]
  },
  {
   "cell_type": "code",
   "execution_count": 7,
   "metadata": {},
   "outputs": [
    {
     "name": "stdout",
     "output_type": "stream",
     "text": [
      "Entropy of data is  0.9456603046006401\n"
     ]
    }
   ],
   "source": [
    "print(\"Entropy of data is \", entropy(data))"
   ]
  },
  {
   "cell_type": "markdown",
   "metadata": {},
   "source": [
    "## Question 2\n",
    "Implement the Decision Tree algorithm (CART, Classification and Regression Trees) and trained the model by the given arguments, and print the accuracy score on the test data. You should implement two arguments for the Decision Tree algorithm\n",
    "1. **Criterion**: The function to measure the quality of a split. Your model should support “gini” for the Gini impurity and “entropy” for the information gain. \n",
    "2. **Max_depth**: The maximum depth of the tree. If Max_depth=None, then nodes are expanded until all leaves are pure. Max_depth=1 equals to split data once\n"
   ]
  },
  {
   "cell_type": "code",
   "execution_count": 8,
   "metadata": {},
   "outputs": [],
   "source": [
    "class Node:\n",
    "    # split_feature & split_value are used for splitting the DecisionTree\n",
    "    def __init__(self, predicted_class):\n",
    "        self.predicted_class = predicted_class\n",
    "        self.split_feature = 0\n",
    "        self.split_value = 0\n",
    "        self.left = None\n",
    "        self.right = None"
   ]
  },
  {
   "cell_type": "code",
   "execution_count": 13,
   "metadata": {},
   "outputs": [],
   "source": [
    "class DecisionTree():\n",
    "    def __init__(self, criterion='gini', max_depth=None):\n",
    "        self.max_depth = max_depth\n",
    "        self.criterion = criterion\n",
    "\n",
    "    def bestSplit(self, X, y):\n",
    "        \"\"\"\n",
    "        Given input data X and target labels y, find the best split for a decision tree.\n",
    "        \"\"\"\n",
    "        best_criterion = 1.0\n",
    "        best_feature = None\n",
    "        best_value = -1\n",
    "\n",
    "        for feature in X.columns:\n",
    "            print('Current calculating feature:', feature)\n",
    "            \n",
    "            for k in range(len(X[feature])):\n",
    "                # Split the current feature DataFrame to left and right parts i.e.(1, n-1), (2, n-2), ..., (n-1, 1)\n",
    "                left_values = X[feature].iloc[:k]\n",
    "                right_values = X[feature].iloc[k:]\n",
    "                \n",
    "                n_left = len(left_values)\n",
    "                n_right = len(right_values)\n",
    "                if(n_left == 0 or n_right == 0):\n",
    "                    continue\n",
    "\n",
    "                # Get the ground truth(y_train) using ID\n",
    "                left_gt, right_gt = [], []\n",
    "                left_gt = [y.iloc[ID][0] for ID in left_values.index]\n",
    "                right_gt = [y.iloc[ID][0] for ID in right_values.index]\n",
    "\n",
    "                # Calculate left & right criterion\n",
    "                left_gini = gini(left_gt)\n",
    "                right_gini = gini(right_gt)\n",
    "\n",
    "                # Calculate the weighted average of criterion\n",
    "                left_weight = n_left / (n_left + n_right)\n",
    "                right_weight = n_right / (n_left + n_right)\n",
    "                weighted_criterion = (left_weight * left_gini) + (right_weight * right_gini)\n",
    "\n",
    "                if(weighted_criterion < best_criterion):\n",
    "                    best_criterion = weighted_criterion\n",
    "                    best_feature = feature\n",
    "                    best_value = X[best_feature].iloc[k]\n",
    "        return best_feature, best_value\n",
    "\n",
    "    def buildTree(self, X, y, depth=0):\n",
    "        # Majority vote for predecting which class that current node belongs to\n",
    "        # num_samples_per_class = [np.sum(y == i) for i in range(self.num_of_classes)]\n",
    "        num_samples_per_class = [np.sum(y == i) for i in range(2)]  # 2 classes\n",
    "        predicted_class = np.argmax(num_samples_per_class)\n",
    "        node = Node(predicted_class=predicted_class)\n",
    "\n",
    "        if depth < self.max_depth:\n",
    "            split_feature, split_value = self.bestSplit(X, y)\n",
    "#             split_feature, split_value = 'mean radius', 19\n",
    "            if split_feature is not None:\n",
    "                node.split_feature = split_feature\n",
    "                node.split_value = split_value\n",
    "\n",
    "                # For each data in X,\n",
    "                # filter out whether the data belongs to left sub-tree or right sub-tree\n",
    "                left_filter = X[split_feature] <= split_value\n",
    "                right_filter = X[split_feature] > split_value\n",
    "                X_left = X[left_filter]\n",
    "                X_right = X[right_filter]\n",
    "                y_left = y[y.index.isin(X_left.index)]\n",
    "                y_right = y[y.index.isin(X_right.index)]\n",
    "                \n",
    "                node.left = self.buildTree(X_left, y_left, depth + 1)\n",
    "                node.right = self.buildTree(X_right, y_right, depth + 1)\n",
    "        return node\n",
    "\n",
    "    def fit(self, X, y):\n",
    "        self.num_of_classes = len(set(y))  # 2 classes(0 or 1)\n",
    "        self.num_of_features = X.shape[1]\n",
    "        self.tree = self.buildTree(X, y)\n",
    "    \n",
    "    def predict(self, X):\n",
    "        output = []\n",
    "        for row in range(X.shape[0]):\n",
    "            x = X.iloc[row]\n",
    "            output.append(self.predict_each(x))\n",
    "        return output\n",
    "    \n",
    "    def predict_each(self, x):\n",
    "        node = self.tree\n",
    "        while node.left:\n",
    "            if x[node.split_feature] <= node.split_value:\n",
    "                node = node.left\n",
    "            else:\n",
    "                node = node.right\n",
    "        return node.predicted_class"
   ]
  },
  {
   "cell_type": "code",
   "execution_count": 14,
   "metadata": {
    "tags": []
   },
   "outputs": [
    {
     "name": "stdout",
     "output_type": "stream",
     "text": [
      "Current calculating feature: mean radius\n",
      "Current calculating feature: mean texture\n",
      "Current calculating feature: mean perimeter\n",
      "Current calculating feature: mean area\n",
      "Current calculating feature: mean smoothness\n",
      "Current calculating feature: mean compactness\n",
      "Current calculating feature: mean concavity\n",
      "Current calculating feature: mean concave points\n",
      "Current calculating feature: mean symmetry\n",
      "Current calculating feature: mean fractal dimension\n",
      "Current calculating feature: radius error\n",
      "Current calculating feature: texture error\n",
      "Current calculating feature: perimeter error\n",
      "Current calculating feature: area error\n",
      "Current calculating feature: smoothness error\n",
      "Current calculating feature: compactness error\n",
      "Current calculating feature: concavity error\n",
      "Current calculating feature: concave points error\n",
      "Current calculating feature: symmetry error\n",
      "Current calculating feature: fractal dimension error\n",
      "Current calculating feature: worst radius\n",
      "Current calculating feature: worst texture\n",
      "Current calculating feature: worst perimeter\n",
      "Current calculating feature: worst area\n",
      "Current calculating feature: worst smoothness\n",
      "Current calculating feature: worst compactness\n",
      "Current calculating feature: worst concavity\n",
      "Current calculating feature: worst concave points\n",
      "Current calculating feature: worst symmetry\n",
      "Current calculating feature: worst fractal dimension\n",
      "[0, 0, 1, 0, 0, 0, 1, 0, 1, 0, 0, 0, 0, 0, 0, 0, 1, 1, 0, 0, 1, 0, 1, 0, 1, 1, 0, 0, 0, 0, 0, 0, 0, 0, 0, 1, 1, 1, 0, 0, 0, 0, 0, 0, 0, 1, 1, 1, 0, 0, 1, 0, 0, 0, 1, 0, 1, 0, 0, 0, 0, 1, 0, 0, 0, 0, 0, 1, 0, 1, 0, 1, 1, 0, 1, 1, 1, 0, 0, 0, 1, 1, 0, 0, 0, 0, 0, 0, 0, 0, 1, 0, 0, 1, 0, 0, 1, 1, 1, 0, 0, 0, 0, 0, 1, 0, 0, 0, 0, 1, 0, 0, 1, 0, 0, 0, 0, 0, 0, 0, 1, 1, 0, 0, 0, 0, 1, 0, 0, 1, 0, 0, 0, 0, 1, 0, 0, 0, 0, 0, 1, 0, 1]\n"
     ]
    }
   ],
   "source": [
    "# use test data to save time\n",
    "# print(x_train.shape)\n",
    "# print(y_train.shape)\n",
    "clf = DecisionTree(max_depth=1)\n",
    "clf.fit(x_train, y_train)\n",
    "y_pred = clf.predict(x_test)\n",
    "print(y_pred)"
   ]
  },
  {
   "cell_type": "code",
   "execution_count": 15,
   "metadata": {},
   "outputs": [
    {
     "data": {
      "text/plain": [
       "0.6923076923076923"
      ]
     },
     "execution_count": 15,
     "metadata": {},
     "output_type": "execute_result"
    }
   ],
   "source": [
    "from sklearn.metrics import accuracy_score\n",
    "accuracy_score(y_test, y_pred)"
   ]
  },
  {
   "cell_type": "markdown",
   "metadata": {},
   "source": [
    "### Question 2.1\n",
    "Using Criterion=‘gini’, showing the accuracy score of test data by Max_depth=3 and Max_depth=10, respectively.\n"
   ]
  },
  {
   "cell_type": "code",
   "execution_count": 13,
   "metadata": {},
   "outputs": [],
   "source": [
    "# clf_depth3 = DecisionTree(criterion='gini', max_depth=3)\n",
    "# clf_depth10 = DecisionTree(criterion='gini', max_depth=10)"
   ]
  },
  {
   "cell_type": "code",
   "execution_count": 14,
   "metadata": {},
   "outputs": [],
   "source": [
    "# clf_depth3.fit(x_train, y_train)\n",
    "# y_pred = clf_depth3.predict(x_test)\n",
    "\n",
    "# from sklearn.metrics import accuracy_score\n",
    "# accuracy_score(y_true, y_pred)"
   ]
  },
  {
   "cell_type": "markdown",
   "metadata": {},
   "source": [
    "### Question 2.2\n",
    "Using Max_depth=3, showing the accuracy score of test data by Criterion=‘gini’ and Criterion=’entropy’, respectively.\n"
   ]
  },
  {
   "cell_type": "code",
   "execution_count": 15,
   "metadata": {},
   "outputs": [],
   "source": [
    "clf_gini = DecisionTree(criterion='gini', max_depth=3)\n",
    "clf_entropy = DecisionTree(criterion='entropy', max_depth=3)"
   ]
  },
  {
   "cell_type": "markdown",
   "metadata": {},
   "source": [
    "- Note: All of your accuracy scores should over 0.9\n",
    "- Note: You should get the same results when re-building the model with the same arguments,  no need to prune the trees\n",
    "- Hint: You can use the recursive method to build the nodes\n"
   ]
  },
  {
   "cell_type": "markdown",
   "metadata": {},
   "source": [
    "## Question 3\n",
    "Plot the [feature importance](https://sefiks.com/2020/04/06/feature-importance-in-decision-trees/) of your Decision Tree model. You can get the feature importance by counting the feature used for splitting data.\n",
    "\n",
    "- You can simply plot the feature counts for building tree without normalize the importance\n",
    "\n",
    "![image](https://i2.wp.com/sefiks.com/wp-content/uploads/2020/04/c45-fi-results.jpg?w=481&ssl=1)"
   ]
  },
  {
   "cell_type": "markdown",
   "metadata": {},
   "source": [
    "## Question 4\n",
    "implement the Random Forest algorithm by using the CART you just implemented from question 2. You should implement three arguments for the Random Forest.\n",
    "\n",
    "1. **N_estimators**: The number of trees in the forest. \n",
    "2. **Max_features**: The number of random select features to consider when looking for the best split\n",
    "3. **Bootstrap**: Whether bootstrap samples are used when building tree\n"
   ]
  },
  {
   "cell_type": "code",
   "execution_count": 16,
   "metadata": {},
   "outputs": [],
   "source": [
    "class RandomForest():\n",
    "    def __init__(self, n_estimators, max_features, boostrap=True, criterion='gini', max_depth=None):\n",
    "        return None"
   ]
  },
  {
   "cell_type": "markdown",
   "metadata": {},
   "source": [
    "### Question 4.1\n",
    "Using Criterion=‘gini’, Max_depth=None, Max_features=sqrt(n_features), showing the accuracy score of test data by n_estimators=10 and n_estimators=100, respectively.\n"
   ]
  },
  {
   "cell_type": "code",
   "execution_count": 17,
   "metadata": {},
   "outputs": [],
   "source": [
    "clf_10tree = RandomForest(n_estimators=10, max_features=np.sqrt(x_train.shape[1]))\n",
    "clf_100tree = RandomForest(n_estimators=100, max_features=np.sqrt(x_train.shape[1]))"
   ]
  },
  {
   "cell_type": "code",
   "execution_count": null,
   "metadata": {},
   "outputs": [],
   "source": []
  },
  {
   "cell_type": "markdown",
   "metadata": {},
   "source": [
    "### Question 4.2\n",
    "Using Criterion=‘gini’, Max_depth=None, N_estimators=10, showing the accuracy score of test data by Max_features=sqrt(n_features) and Max_features=n_features, respectively.\n"
   ]
  },
  {
   "cell_type": "code",
   "execution_count": 18,
   "metadata": {},
   "outputs": [],
   "source": [
    "clf_random_features = RandomForest(n_estimators=10, max_features=np.sqrt(x_train.shape[1]))\n",
    "clf_all_features = RandomForest(n_estimators=10, max_features=x_train.shape[1])"
   ]
  },
  {
   "cell_type": "markdown",
   "metadata": {},
   "source": [
    "- Note: Use majority votes to get the final prediction, you may get slightly different results when re-building the random forest model"
   ]
  },
  {
   "cell_type": "code",
   "execution_count": null,
   "metadata": {},
   "outputs": [],
   "source": []
  },
  {
   "cell_type": "markdown",
   "metadata": {},
   "source": [
    "## Supplementary\n",
    "If you have trouble to implement this homework, TA strongly recommend watching [this video](https://www.youtube.com/watch?v=LDRbO9a6XPU), which explains Decision Tree model clearly. But don't copy code from any resources, try to finish this homework by yourself! "
   ]
  }
 ],
 "metadata": {
  "kernelspec": {
   "display_name": "Python 3",
   "language": "python",
   "name": "python3"
  },
  "language_info": {
   "codemirror_mode": {
    "name": "ipython",
    "version": 3
   },
   "file_extension": ".py",
   "mimetype": "text/x-python",
   "name": "python",
   "nbconvert_exporter": "python",
   "pygments_lexer": "ipython3",
   "version": "3.8.8"
  }
 },
 "nbformat": 4,
 "nbformat_minor": 4
}
