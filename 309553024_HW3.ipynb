{
 "cells": [
  {
   "cell_type": "markdown",
   "metadata": {},
   "source": [
    "## HW3: Decision Tree, Random Forest, and Adaboost\n",
    "In hw3, you need to implement decision tree, random forest and adaboost by using only numpy, then train your implemented model by the provided dataset and test the performance with testing data\n",
    "\n",
    "Please note that only **NUMPY** can be used to implement your model, you will get no points by simply calling sklearn.tree.DecisionTreeClassifier"
   ]
  },
  {
   "cell_type": "code",
   "execution_count": 1,
   "metadata": {},
   "outputs": [],
   "source": [
    "# !pip install sklearn"
   ]
  },
  {
   "cell_type": "markdown",
   "metadata": {},
   "source": [
    "## Load data"
   ]
  },
  {
   "cell_type": "code",
   "execution_count": 2,
   "metadata": {},
   "outputs": [],
   "source": [
    "import numpy as np\n",
    "import pandas as pd\n",
    "from sklearn.datasets import load_breast_cancer\n",
    "from sklearn.metrics import accuracy_score\n",
    "from collections import Counter\n",
    "import time\n",
    "import random"
   ]
  },
  {
   "cell_type": "code",
   "execution_count": 3,
   "metadata": {},
   "outputs": [
    {
     "name": "stdout",
     "output_type": "stream",
     "text": [
      "['mean radius' 'mean texture' 'mean perimeter' 'mean area'\n",
      " 'mean smoothness' 'mean compactness' 'mean concavity'\n",
      " 'mean concave points' 'mean symmetry' 'mean fractal dimension'\n",
      " 'radius error' 'texture error' 'perimeter error' 'area error'\n",
      " 'smoothness error' 'compactness error' 'concavity error'\n",
      " 'concave points error' 'symmetry error' 'fractal dimension error'\n",
      " 'worst radius' 'worst texture' 'worst perimeter' 'worst area'\n",
      " 'worst smoothness' 'worst compactness' 'worst concavity'\n",
      " 'worst concave points' 'worst symmetry' 'worst fractal dimension']\n"
     ]
    }
   ],
   "source": [
    "data = load_breast_cancer()\n",
    "feature_names = data['feature_names']\n",
    "print(feature_names)"
   ]
  },
  {
   "cell_type": "code",
   "execution_count": 4,
   "metadata": {},
   "outputs": [],
   "source": [
    "x_train = pd.read_csv(\"x_train.csv\")\n",
    "y_train = pd.read_csv(\"y_train.csv\")\n",
    "x_test = pd.read_csv(\"x_test.csv\")\n",
    "y_test = pd.read_csv(\"y_test.csv\")"
   ]
  },
  {
   "cell_type": "markdown",
   "metadata": {},
   "source": [
    "## Question 1\n",
    "Gini Index or Entropy is often used for measuring the “best” splitting of the data. Please compute the Entropy and Gini Index of provided data. Please use the formula from the course sludes on E3"
   ]
  },
  {
   "cell_type": "code",
   "execution_count": 5,
   "metadata": {},
   "outputs": [],
   "source": [
    "def gini(sequence):\n",
    "    num_of_data = len(sequence)\n",
    "    counts = np.bincount(sequence)\n",
    "    probs = counts[np.nonzero(counts)] / num_of_data\n",
    "    return 1 - np.sum(np.square(probs))\n",
    "\n",
    "\n",
    "def entropy(sequence):\n",
    "    num_of_data = len(sequence)\n",
    "    counts = np.bincount(sequence)\n",
    "    probs = counts[np.nonzero(counts)] / num_of_data\n",
    "    num_of_classes = len(probs)\n",
    "    if(num_of_classes <= 1):\n",
    "        return 0\n",
    "    return - np.sum(probs * np.log2(probs))"
   ]
  },
  {
   "cell_type": "code",
   "execution_count": 6,
   "metadata": {},
   "outputs": [],
   "source": [
    "# 1 = class 1,\n",
    "# 2 = class 2\n",
    "data = np.array([1,2,1,1,1,1,2,2,1,1,2])"
   ]
  },
  {
   "cell_type": "code",
   "execution_count": 7,
   "metadata": {},
   "outputs": [
    {
     "name": "stdout",
     "output_type": "stream",
     "text": [
      "Gini of data is  0.4628099173553719\n"
     ]
    }
   ],
   "source": [
    "print(\"Gini of data is \", gini(data))"
   ]
  },
  {
   "cell_type": "code",
   "execution_count": 8,
   "metadata": {},
   "outputs": [
    {
     "name": "stdout",
     "output_type": "stream",
     "text": [
      "Entropy of data is  0.9456603046006401\n"
     ]
    }
   ],
   "source": [
    "print(\"Entropy of data is \", entropy(data))"
   ]
  },
  {
   "cell_type": "markdown",
   "metadata": {},
   "source": [
    "## Question 2\n",
    "Implement the Decision Tree algorithm (CART, Classification and Regression Trees) and trained the model by the given arguments, and print the accuracy score on the test data. You should implement two arguments for the Decision Tree algorithm\n",
    "1. **Criterion**: The function to measure the quality of a split. Your model should support “gini” for the Gini impurity and “entropy” for the information gain. \n",
    "2. **Max_depth**: The maximum depth of the tree. If Max_depth=None, then nodes are expanded until all leaves are pure. Max_depth=1 equals to split data once\n"
   ]
  },
  {
   "cell_type": "code",
   "execution_count": 9,
   "metadata": {},
   "outputs": [],
   "source": [
    "class Node:\n",
    "    # split_feature & split_value are used for splitting the DecisionTree\n",
    "    def __init__(self, predicted_class):\n",
    "        self.predicted_class = predicted_class\n",
    "        self.split_feature = 0\n",
    "        self.split_value = 0\n",
    "        self.left = None\n",
    "        self.right = None"
   ]
  },
  {
   "cell_type": "code",
   "execution_count": 47,
   "metadata": {},
   "outputs": [],
   "source": [
    "class DecisionTree():\n",
    "    def __init__(self, criterion='gini', max_depth=None, max_features=None):\n",
    "        self.criterion = criterion\n",
    "        self.max_depth = max_depth if max_depth is not None else 10000  # Set a large depth limit if max_depth=None\n",
    "        self.bestFeatureList = []\n",
    "        self.max_features = max_features\n",
    "\n",
    "    def bestSplit(self, X, y):\n",
    "        \"\"\"\n",
    "        Given input data X and ground truth y, find the best split for a decision tree.\n",
    "        \"\"\"\n",
    "        best_criterion = 1.0\n",
    "        best_feature = None\n",
    "        best_value = -1\n",
    "\n",
    "        if len(y) <= 1:  # need at least two elements to split\n",
    "            return best_feature, best_value\n",
    "\n",
    "        # Check if we need to randomly sample features (to be compatible with RandomForest)\n",
    "        if self.max_features is not None:\n",
    "            # Random select number of max_features features\n",
    "            n = int(self.max_features)\n",
    "            selected_indices = random.sample(range(len(X.columns)), n)\n",
    "            features = [X.columns[i] for i in selected_indices]\n",
    "        else:\n",
    "            features = X.columns\n",
    "\n",
    "        for feature in features:\n",
    "            # print('Current calculating feature:', feature)\n",
    "            sorted_X = X.sort_values(by=[feature])  # a new DataFrame sorted by current feature\n",
    "\n",
    "            for k in range(1, X.shape[0]):\n",
    "                # Split the current feature rows to left and right parts\n",
    "                # i.e.(1, n-1), (2, n-2), ..., (n-1, 1)\n",
    "                left_values = sorted_X[feature].iloc[:k]\n",
    "                right_values = sorted_X[feature].iloc[k:]\n",
    "\n",
    "                n_left = len(left_values)\n",
    "                n_right = len(right_values)\n",
    "\n",
    "                # Get the ground truth(y_train) using ID\n",
    "                left_gt, right_gt = [], []\n",
    "                left_gt = [y.at[ID, '0'] for ID in left_values.index]\n",
    "                right_gt = [y.at[ID, '0'] for ID in right_values.index]\n",
    "\n",
    "                # Calculate left & right criterion\n",
    "                if(self.criterion == 'entropy'):\n",
    "                    left_criterion = entropy(left_gt)\n",
    "                    right_criterion = entropy(right_gt)\n",
    "                else:  # criterion == 'gini'\n",
    "                    left_criterion = gini(left_gt)\n",
    "                    right_criterion = gini(right_gt)\n",
    "\n",
    "                # Calculate the weighted average of criterion\n",
    "                left_weight = n_left / X.shape[0]\n",
    "                right_weight = n_right / X.shape[0]\n",
    "                weighted_criterion = (left_weight * left_criterion) + (right_weight * right_criterion)\n",
    "\n",
    "                if(weighted_criterion < best_criterion):\n",
    "                    best_criterion = weighted_criterion\n",
    "                    best_feature = feature\n",
    "                    best_value = (sorted_X[best_feature].iat[k-1] + sorted_X[best_feature].iat[k]) / 2\n",
    "\n",
    "        self.bestFeatureList.append(best_feature)\n",
    "        return best_feature, best_value\n",
    "\n",
    "    def buildTree(self, X, y, depth=0):\n",
    "        # Predecting which class that current node belongs to\n",
    "        y_array = y.to_numpy()[:, 0]  # convert y DataFrame to a 1-D array\n",
    "        num_of_data_per_class = np.bincount(y_array, minlength=2)\n",
    "        predicted_class = np.argmax(num_of_data_per_class)\n",
    "\n",
    "        node = Node(predicted_class=predicted_class)\n",
    "\n",
    "        # Return if the node is pure\n",
    "        if(0 in num_of_data_per_class):\n",
    "            return node\n",
    "\n",
    "        if depth < self.max_depth:\n",
    "            print('Current depth:', depth)\n",
    "            split_feature, split_value = self.bestSplit(X, y)\n",
    "            if split_feature is not None:\n",
    "                node.split_feature = split_feature\n",
    "                node.split_value = split_value\n",
    "\n",
    "                # For each data in X,\n",
    "                # filter out whether the data belongs to left sub-tree or right sub-tree\n",
    "                left_filter = X[split_feature] <= split_value\n",
    "                right_filter = X[split_feature] > split_value\n",
    "                X_left = X[left_filter]\n",
    "                X_right = X[right_filter]\n",
    "                y_left = y[y.index.isin(X_left.index)]\n",
    "                y_right = y[y.index.isin(X_right.index)]\n",
    "\n",
    "                node.left = self.buildTree(X_left, y_left, depth + 1)\n",
    "                node.right = self.buildTree(X_right, y_right, depth + 1)\n",
    "        return node\n",
    "\n",
    "    def fit(self, X, y):\n",
    "        self.num_of_classes = 2  # 2 classes(0 or 1)\n",
    "        self.num_of_features = X.shape[1]\n",
    "        self.tree = self.buildTree(X, y)\n",
    "\n",
    "    def predict(self, X):\n",
    "        output = []\n",
    "        for row in range(X.shape[0]):\n",
    "            x = X.iloc[row]\n",
    "            output.append(self.predict_each(x))\n",
    "        return output\n",
    "\n",
    "    def predict_each(self, x):\n",
    "        node = self.tree\n",
    "        while node.left:\n",
    "            if x[node.split_feature] <= node.split_value:\n",
    "                node = node.left\n",
    "            else:\n",
    "                node = node.right\n",
    "        return node.predicted_class\n"
   ]
  },
  {
   "cell_type": "code",
   "execution_count": 11,
   "metadata": {},
   "outputs": [],
   "source": [
    "# clf_depth_None = DecisionTree(criterion='gini', max_depth=None)\n",
    "# clf_depth_None.fit(x_train, y_train)\n",
    "# y_pred_None = clf_depth_None.predict(x_test)\n",
    "# accuracy_score(y_test, y_pred_None)"
   ]
  },
  {
   "cell_type": "markdown",
   "metadata": {},
   "source": [
    "### Question 2.1\n",
    "Using Criterion=‘gini’, showing the accuracy score of test data by Max_depth=3 and Max_depth=10, respectively.\n"
   ]
  },
  {
   "cell_type": "code",
   "execution_count": 12,
   "metadata": {},
   "outputs": [],
   "source": [
    "clf_depth3 = DecisionTree(criterion='gini', max_depth=3)\n",
    "clf_depth10 = DecisionTree(criterion='gini', max_depth=10)"
   ]
  },
  {
   "cell_type": "code",
   "execution_count": 13,
   "metadata": {
    "tags": []
   },
   "outputs": [
    {
     "name": "stdout",
     "output_type": "stream",
     "text": [
      "start building clf_depth3(gini, max_depth=3) model...\n",
      "Current depth: 0\n",
      "Current depth: 1\n",
      "Current depth: 2\n",
      "Current depth: 2\n",
      "Current depth: 1\n",
      "Current depth: 2\n",
      "Current depth: 2\n",
      "finished in 70.05767774581909 seconds\n"
     ]
    }
   ],
   "source": [
    "print('start building clf_depth3(gini, max_depth=3) model...')\n",
    "start_time = time.time()\n",
    "\n",
    "clf_depth3.fit(x_train, y_train)\n",
    "y_pred_depth3 = clf_depth3.predict(x_test)\n",
    "\n",
    "print(\"finished in %s seconds\" % (time.time() - start_time))"
   ]
  },
  {
   "cell_type": "code",
   "execution_count": 14,
   "metadata": {},
   "outputs": [
    {
     "name": "stdout",
     "output_type": "stream",
     "text": [
      "start building clf_depth10(gini, max_depth=10) model...\n",
      "Current depth: 0\n",
      "Current depth: 1\n",
      "Current depth: 2\n",
      "Current depth: 3\n",
      "Current depth: 4\n",
      "Current depth: 3\n",
      "Current depth: 2\n",
      "Current depth: 3\n",
      "Current depth: 4\n",
      "Current depth: 4\n",
      "Current depth: 3\n",
      "Current depth: 1\n",
      "Current depth: 2\n",
      "Current depth: 2\n",
      "Current depth: 3\n",
      "Current depth: 4\n",
      "finished in 86.43953824043274 seconds\n"
     ]
    }
   ],
   "source": [
    "print('start building clf_depth10(gini, max_depth=10) model...')\n",
    "start_time = time.time()\n",
    "\n",
    "clf_depth10.fit(x_train, y_train)\n",
    "y_pred_depth10 = clf_depth10.predict(x_test)\n",
    "\n",
    "print(\"finished in %s seconds\" % (time.time() - start_time))"
   ]
  },
  {
   "cell_type": "code",
   "execution_count": 15,
   "metadata": {},
   "outputs": [
    {
     "name": "stdout",
     "output_type": "stream",
     "text": [
      "accuracy score of clf_depth3: 0.9230769230769231\n",
      "accuracy score of clf_depth10: 0.916083916083916\n"
     ]
    }
   ],
   "source": [
    "print('accuracy score of clf_depth3:', accuracy_score(y_test, y_pred_depth3))\n",
    "print('accuracy score of clf_depth10:', accuracy_score(y_test, y_pred_depth10))"
   ]
  },
  {
   "cell_type": "code",
   "execution_count": 16,
   "metadata": {},
   "outputs": [
    {
     "name": "stdout",
     "output_type": "stream",
     "text": [
      "accuracy score by sklearn: 0.9090909090909091\n"
     ]
    }
   ],
   "source": [
    "# For comparison of accuracy\n",
    "from sklearn import tree\n",
    "\n",
    "clf_sklearn = tree.DecisionTreeClassifier()\n",
    "clf_sklearn.fit(x_train, y_train)\n",
    "y_pred_sklearn = clf_sklearn.predict(x_test)\n",
    "print('accuracy score by sklearn:', accuracy_score(y_test, y_pred_sklearn))"
   ]
  },
  {
   "cell_type": "markdown",
   "metadata": {},
   "source": [
    "### Question 2.2\n",
    "Using Max_depth=3, showing the accuracy score of test data by Criterion=‘gini’ and Criterion=’entropy’, respectively.\n"
   ]
  },
  {
   "cell_type": "code",
   "execution_count": 17,
   "metadata": {},
   "outputs": [],
   "source": [
    "clf_gini = DecisionTree(criterion='gini', max_depth=3)\n",
    "clf_entropy = DecisionTree(criterion='entropy', max_depth=3)"
   ]
  },
  {
   "cell_type": "code",
   "execution_count": 18,
   "metadata": {},
   "outputs": [
    {
     "name": "stdout",
     "output_type": "stream",
     "text": [
      "start building clf_gini(max_depth=3) model...\n",
      "Current depth: 0\n",
      "Current depth: 1\n",
      "Current depth: 2\n",
      "Current depth: 2\n",
      "Current depth: 1\n",
      "Current depth: 2\n",
      "Current depth: 2\n",
      "finished in 70.67815136909485 seconds\n"
     ]
    }
   ],
   "source": [
    "print('start building clf_gini(max_depth=3) model...')\n",
    "start_time = time.time()\n",
    "\n",
    "clf_gini.fit(x_train, y_train)\n",
    "y_pred_gini = clf_gini.predict(x_test)\n",
    "\n",
    "print(\"finished in %s seconds\" % (time.time() - start_time))"
   ]
  },
  {
   "cell_type": "code",
   "execution_count": 19,
   "metadata": {},
   "outputs": [
    {
     "name": "stdout",
     "output_type": "stream",
     "text": [
      "start building clf_entropy(max_depth=3) model...\n",
      "Current depth: 0\n",
      "Current depth: 1\n",
      "Current depth: 2\n",
      "Current depth: 2\n",
      "Current depth: 1\n",
      "Current depth: 2\n",
      "finished in 67.63878440856934 seconds\n"
     ]
    }
   ],
   "source": [
    "print('start building clf_entropy(max_depth=3) model...')\n",
    "start_time = time.time()\n",
    "\n",
    "clf_entropy.fit(x_train, y_train)\n",
    "y_pred_entropy = clf_entropy.predict(x_test)\n",
    "\n",
    "print(\"finished in %s seconds\" % (time.time() - start_time))"
   ]
  },
  {
   "cell_type": "code",
   "execution_count": 20,
   "metadata": {},
   "outputs": [
    {
     "name": "stdout",
     "output_type": "stream",
     "text": [
      "accuracy score of clf_gini: 0.9230769230769231\n",
      "accuracy score of clf_entropy: 0.9230769230769231\n"
     ]
    }
   ],
   "source": [
    "print('accuracy score of clf_gini:', accuracy_score(y_test, y_pred_gini))\n",
    "print('accuracy score of clf_entropy:', accuracy_score(y_test, y_pred_entropy))"
   ]
  },
  {
   "cell_type": "markdown",
   "metadata": {},
   "source": [
    "- Note: All of your accuracy scores should over 0.9\n",
    "- Note: You should get the same results when re-building the model with the same arguments,  no need to prune the trees\n",
    "- Hint: You can use the recursive method to build the nodes\n"
   ]
  },
  {
   "cell_type": "markdown",
   "metadata": {},
   "source": [
    "## Question 3\n",
    "Plot the [feature importance](https://sefiks.com/2020/04/06/feature-importance-in-decision-trees/) of your Decision Tree model. You can get the feature importance by counting the feature used for splitting data.\n",
    "\n",
    "- You can simply plot the feature counts for building tree without normalize the importance\n",
    "\n",
    "![image](https://i2.wp.com/sefiks.com/wp-content/uploads/2020/04/c45-fi-results.jpg?w=481&ssl=1)"
   ]
  },
  {
   "cell_type": "code",
   "execution_count": 21,
   "metadata": {},
   "outputs": [
    {
     "name": "stdout",
     "output_type": "stream",
     "text": [
      "[('worst texture', 3), ('mean texture', 3), ('mean radius', 2), ('worst radius', 1), ('worst concave points', 1), ('area error', 1), ('worst area', 1), ('mean perimeter', 1), ('mean concavity', 1), ('mean concave points', 1), ('worst concavity', 1)]\n"
     ]
    }
   ],
   "source": [
    "# Calculate the occurrence of best_feature in 'clf_depth10' model\n",
    "counts = Counter(clf_depth10.bestFeatureList)\n",
    "counts = counts.most_common()\n",
    "print(counts)"
   ]
  },
  {
   "cell_type": "code",
   "execution_count": 22,
   "metadata": {},
   "outputs": [
    {
     "data": {
      "text/plain": [
       "Text(0.5, 1.0, 'Feature counts of clf_depth10')"
      ]
     },
     "execution_count": 22,
     "metadata": {},
     "output_type": "execute_result"
    },
    {
     "data": {
      "image/png": "[encoded data removed]",
      "text/plain": [
       "<Figure size 432x288 with 1 Axes>"
      ]
     },
     "metadata": {
      "needs_background": "light"
     },
     "output_type": "display_data"
    }
   ],
   "source": [
    "# Plot the feature counts of 'clf_depth10' model\n",
    "import seaborn as sns\n",
    "\n",
    "df = pd.DataFrame(counts, columns=['Features', 'Count'])\n",
    "ax = sns.barplot(x='Count', y='Features', data=df)\n",
    "ax.set_title('Feature counts of clf_depth10')"
   ]
  },
  {
   "cell_type": "markdown",
   "metadata": {},
   "source": [
    "## Question 4\n",
    "implement the Random Forest algorithm by using the CART you just implemented from question 2. You should implement three arguments for the Random Forest.\n",
    "\n",
    "1. **N_estimators**: The number of trees in the forest. \n",
    "2. **Max_features**: The number of random select features to consider when looking for the best split\n",
    "3. **Bootstrap**: Whether bootstrap samples are used when building tree\n"
   ]
  },
  {
   "cell_type": "code",
   "execution_count": 56,
   "metadata": {},
   "outputs": [],
   "source": [
    "class RandomForest():\n",
    "    def __init__(self, n_estimators, max_features, boostrap=True, criterion='gini', max_depth=None):\n",
    "        self.n_estimators = n_estimators\n",
    "        self.max_features = max_features\n",
    "        self.boostrap = boostrap\n",
    "        self.criterion = criterion\n",
    "        self.max_depth = max_depth\n",
    "        self.treeList = []  # store each tree\n",
    "\n",
    "    def bootstrapSampling(self, X, y):\n",
    "        \"\"\"\n",
    "        Randomly select N training data with replacement for each tree's bootstrap dataset.\n",
    "        i.e. for x_train, N=426\n",
    "        Return a bootstrap dataset with its ground truth.\n",
    "        \"\"\"\n",
    "        selected_ID = random.choices(range(X.shape[0]), k=X.shape[0])\n",
    "        bootstrap_X = X.iloc[selected_ID,:]\n",
    "        bootstrap_y = y[y.index.isin(selected_ID)]\n",
    "        return bootstrap_X, bootstrap_y\n",
    "\n",
    "    def buildForest(self, X, y):\n",
    "        for i in range(self.n_estimators):\n",
    "            print(f'generating #{i} tree...')\n",
    "            clf_tree = DecisionTree(criterion=self.criterion, max_depth=self.max_depth, max_features=self.max_features)\n",
    "            if self.boostrap is True:\n",
    "                bootstrap_X, bootstrap_y = self.bootstrapSampling(X, y)\n",
    "                clf_tree.fit(bootstrap_X, bootstrap_y)\n",
    "            else:\n",
    "                clf_tree.fit(X, y)\n",
    "            self.treeList.append(clf_tree)\n",
    "\n",
    "    def predict(self, X):\n",
    "        final_pred = []\n",
    "        tree_pred = []  # store the prediction of each tree\n",
    "        for tree in self.treeList:\n",
    "            y_pred = tree.predict(X)\n",
    "            tree_pred.append(y_pred)\n",
    "\n",
    "        # Perform majority vote to get final prediction\n",
    "        \n",
    "        return final_pred"
   ]
  },
  {
   "cell_type": "code",
   "execution_count": 57,
   "metadata": {},
   "outputs": [
    {
     "name": "stdout",
     "output_type": "stream",
     "text": [
      "generating #0 tree...\n",
      "Current depth: 0\n",
      "Current depth: 1\n",
      "Current depth: 2\n",
      "Current depth: 3\n",
      "Current depth: 4\n",
      "Current depth: 5\n",
      "Current depth: 2\n",
      "Current depth: 3\n",
      "generating #1 tree...\n",
      "Current depth: 0\n",
      "Current depth: 1\n",
      "Current depth: 2\n",
      "Current depth: 3\n",
      "Current depth: 4\n",
      "Current depth: 5\n",
      "Current depth: 2\n",
      "[0, 1, 1, 1, 0, 1, 1, 1, 1, 0, 1, 1, 0, 1, 1, 1, 1, 1, 0, 0, 1, 0, 1, 1, 1, 1, 0, 1, 0, 1, 1, 0, 1, 0, 0, 1, 1, 1, 0, 0, 1, 1, 1, 0, 0, 1, 1, 1, 0, 0, 1, 0, 0, 0, 1, 0, 1, 0, 0, 1, 1, 1, 0, 1, 0, 0, 0, 1, 0, 1, 1, 1, 1, 0, 1, 1, 1, 0, 1, 0, 1, 1, 1, 1, 0, 1, 0, 1, 1, 0, 1, 0, 0, 1, 1, 0, 1, 1, 1, 1, 1, 1, 1, 1, 1, 1, 0, 0, 0, 1, 0, 0, 1, 1, 0, 1, 1, 1, 0, 1, 1, 1, 1, 0, 0, 1, 1, 0, 0, 1, 0, 0, 1, 1, 1, 1, 0, 1, 0, 0, 1, 0, 1]\n",
      "[0, 0, 1, 1, 0, 1, 1, 0, 1, 0, 1, 1, 0, 1, 1, 0, 1, 1, 0, 0, 1, 0, 1, 1, 1, 1, 0, 1, 0, 1, 1, 0, 1, 0, 0, 1, 1, 0, 0, 0, 1, 0, 1, 0, 0, 1, 1, 1, 0, 0, 1, 0, 0, 0, 1, 0, 1, 0, 0, 1, 1, 1, 0, 1, 0, 0, 0, 1, 1, 1, 1, 1, 1, 0, 1, 1, 1, 0, 1, 0, 1, 1, 1, 1, 0, 1, 0, 1, 0, 0, 1, 0, 0, 1, 1, 0, 1, 1, 1, 1, 1, 1, 1, 1, 1, 0, 0, 0, 0, 1, 0, 0, 1, 1, 0, 0, 1, 1, 0, 1, 1, 1, 1, 0, 0, 1, 1, 0, 0, 1, 0, 0, 1, 1, 1, 1, 0, 1, 0, 0, 1, 0, 1]\n"
     ]
    }
   ],
   "source": [
    "test_forest = RandomForest(n_estimators=2, max_features=np.sqrt(x_train.shape[1]))\n",
    "test_forest.buildForest(x_test, y_test)\n",
    "pred0 = test_forest.treeList[0].predict(x_test)\n",
    "pred1 = test_forest.treeList[1].predict(x_test)\n",
    "print(pred0)\n",
    "print(pred1)"
   ]
  },
  {
   "cell_type": "markdown",
   "metadata": {},
   "source": [
    "### Question 4.1\n",
    "Using Criterion=‘gini’, Max_depth=None, Max_features=sqrt(n_features), showing the accuracy score of test data by n_estimators=10 and n_estimators=100, respectively.\n"
   ]
  },
  {
   "cell_type": "code",
   "execution_count": 25,
   "metadata": {},
   "outputs": [],
   "source": [
    "clf_10tree = RandomForest(n_estimators=10, max_features=np.sqrt(x_train.shape[1]))\n",
    "clf_100tree = RandomForest(n_estimators=100, max_features=np.sqrt(x_train.shape[1]))"
   ]
  },
  {
   "cell_type": "code",
   "execution_count": null,
   "metadata": {},
   "outputs": [],
   "source": []
  },
  {
   "cell_type": "markdown",
   "metadata": {},
   "source": [
    "### Question 4.2\n",
    "Using Criterion=‘gini’, Max_depth=None, N_estimators=10, showing the accuracy score of test data by Max_features=sqrt(n_features) and Max_features=n_features, respectively.\n"
   ]
  },
  {
   "cell_type": "code",
   "execution_count": 26,
   "metadata": {},
   "outputs": [],
   "source": [
    "clf_random_features = RandomForest(n_estimators=10, max_features=np.sqrt(x_train.shape[1]))\n",
    "clf_all_features = RandomForest(n_estimators=10, max_features=x_train.shape[1])"
   ]
  },
  {
   "cell_type": "markdown",
   "metadata": {},
   "source": [
    "- Note: Use majority votes to get the final prediction, you may get slightly different results when re-building the random forest model"
   ]
  },
  {
   "cell_type": "code",
   "execution_count": null,
   "metadata": {},
   "outputs": [],
   "source": []
  },
  {
   "cell_type": "markdown",
   "metadata": {},
   "source": [
    "## Supplementary\n",
    "If you have trouble to implement this homework, TA strongly recommend watching [this video](https://www.youtube.com/watch?v=LDRbO9a6XPU), which explains Decision Tree model clearly. But don't copy code from any resources, try to finish this homework by yourself! "
   ]
  }
 ],
 "metadata": {
  "kernelspec": {
   "display_name": "Python 3",
   "language": "python",
   "name": "python3"
  },
  "language_info": {
   "codemirror_mode": {
    "name": "ipython",
    "version": 3
   },
   "file_extension": ".py",
   "mimetype": "text/x-python",
   "name": "python",
   "nbconvert_exporter": "python",
   "pygments_lexer": "ipython3",
   "version": "3.8.8"
  }
 },
 "nbformat": 4,
 "nbformat_minor": 4
}
